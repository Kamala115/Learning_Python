{
 "cells": [
  {
   "cell_type": "code",
   "execution_count": 1,
   "id": "82689424",
   "metadata": {},
   "outputs": [],
   "source": [
    "# PYTHON COLLECTION\n",
    "    # List\n",
    "    # Tuple\n",
    "    # Dictionary\n",
    "    #Set\n"
   ]
  },
  {
   "cell_type": "code",
   "execution_count": 2,
   "id": "3f3cf037",
   "metadata": {},
   "outputs": [],
   "source": [
    "# LIST \n",
    "#Indexing support\n",
    "#Ordered datatype\n",
    "#multiple and duplicate data\n",
    "#mutable\n"
   ]
  },
  {
   "cell_type": "code",
   "execution_count": 4,
   "id": "9258cae7",
   "metadata": {},
   "outputs": [
    {
     "name": "stdout",
     "output_type": "stream",
     "text": [
      "<class 'list'>\n",
      "<class 'list'>\n"
     ]
    }
   ],
   "source": [
    "a = [\"Apple\",\"Ball\",\"Cat\",\"Dog\"]\n",
    "b = [1,2,3,4,5,6]\n",
    "print(type(a))\n",
    "print(type(b))"
   ]
  },
  {
   "cell_type": "code",
   "execution_count": 9,
   "id": "8497ad6f",
   "metadata": {},
   "outputs": [
    {
     "name": "stdout",
     "output_type": "stream",
     "text": [
      "Apple\n",
      "Dog\n",
      "['Apple', 'Ball', 'Cat', 'Dog']\n",
      "['Apple', 'Cat']\n"
     ]
    }
   ],
   "source": [
    "a = [\"Apple\",\"Ball\",\"Cat\",\"Dog\"]\n",
    "print(a[0])\n",
    "print(a[-1])\n",
    "print(a[0:4])\n",
    "print(a[0:3:2])"
   ]
  },
  {
   "cell_type": "code",
   "execution_count": 17,
   "id": "bea3ca82",
   "metadata": {},
   "outputs": [
    {
     "name": "stdout",
     "output_type": "stream",
     "text": [
      "[1, 2, 3, 3, 4, 5, 6, 7, 8, 9, 1, 2, 3, 4, 5, 6, 7]\n",
      "[1, 3, 6, 9]\n",
      "17\n"
     ]
    }
   ],
   "source": [
    "a = [1,2,3,3,4,5,6,7,8,9,1,2,3,4,5,6,7]\n",
    "print(a)\n",
    "print(a[0:10:3])\n",
    "print(len(a))"
   ]
  },
  {
   "cell_type": "code",
   "execution_count": 19,
   "id": "8ab87bf0",
   "metadata": {},
   "outputs": [
    {
     "name": "stdout",
     "output_type": "stream",
     "text": [
      "[1, 2, 3, 'ram', 'shyam', 3, 4, 5, 6]\n"
     ]
    }
   ],
   "source": [
    "a = [1,2,3,\"ram\",\"shyam\",3,4,5,6]\n",
    "print(a)"
   ]
  },
  {
   "cell_type": "code",
   "execution_count": 20,
   "id": "dc50ada2",
   "metadata": {},
   "outputs": [
    {
     "name": "stdout",
     "output_type": "stream",
     "text": [
      "['Apple', 'Ball', 'Cat', 'Dog', 1, 2, 3, 4, 5, 6]\n"
     ]
    }
   ],
   "source": [
    "a = [\"Apple\",\"Ball\",\"Cat\",\"Dog\"]\n",
    "b = [1,2,3,4,5,6]\n",
    "c = a + b\n",
    "print(c)"
   ]
  },
  {
   "cell_type": "code",
   "execution_count": 24,
   "id": "168a1506",
   "metadata": {},
   "outputs": [
    {
     "name": "stdout",
     "output_type": "stream",
     "text": [
      "['Apple', 'Ball', 'Cat', 'Dog', 'Apple', 'Ball', 'Cat', 'Dog']\n",
      "[1, 2, 3, 4, 5, 6, 1, 2, 3, 4, 5, 6]\n"
     ]
    }
   ],
   "source": [
    "a = [\"Apple\",\"Ball\",\"Cat\",\"Dog\"]\n",
    "b = [1,2,3,4,5,6]\n",
    "print(a * 2)\n",
    "print(b * 2)"
   ]
  },
  {
   "cell_type": "code",
   "execution_count": 27,
   "id": "e7778eba",
   "metadata": {},
   "outputs": [
    {
     "name": "stdout",
     "output_type": "stream",
     "text": [
      "['Apple', 'Ball']\n"
     ]
    }
   ],
   "source": [
    "#a[]\n",
    "a = list()\n",
    "a = a + [\"Apple\"]\n",
    "a = a + [\"Ball\"]\n",
    "print(a)"
   ]
  },
  {
   "cell_type": "code",
   "execution_count": 28,
   "id": "7e7ea4f3",
   "metadata": {},
   "outputs": [
    {
     "name": "stdout",
     "output_type": "stream",
     "text": [
      "Enter n = 4\n",
      "Enter x = 1\n",
      "Enter x = 2\n",
      "Enter x = 3\n",
      "Enter x = 4\n",
      "[1, 2, 3, 4]\n"
     ]
    }
   ],
   "source": [
    "a = []\n",
    "n = int(input(\"Enter n = \"))\n",
    "for i in range(n):\n",
    "    x = int(input(\"Enter x = \"))\n",
    "    a = a + [x]\n",
    "print(a)"
   ]
  },
  {
   "cell_type": "code",
   "execution_count": 30,
   "id": "fce8d076",
   "metadata": {},
   "outputs": [
    {
     "name": "stdout",
     "output_type": "stream",
     "text": [
      "The maximum value =  7777777777777\n",
      "The minimum value =  0\n",
      "The sum value =  7785733333896\n",
      "The average value =  598902564145.8462\n"
     ]
    }
   ],
   "source": [
    "a = [1,2,3,4,5,6,666666666,7777777777777,6666666666,555555556,66666666,544,0]\n",
    "print(\"The maximum value = \",max(a))\n",
    "print(\"The minimum value = \",min(a))\n",
    "print(\"The sum value = \",sum(a))\n",
    "print(\"The average value = \",sum(a)/len(a))"
   ]
  },
  {
   "cell_type": "code",
   "execution_count": 31,
   "id": "98154836",
   "metadata": {},
   "outputs": [
    {
     "name": "stdout",
     "output_type": "stream",
     "text": [
      "[0, 1, 2, 3, 4, 5, 6, 544, 66666666, 555555556, 666666666, 6666666666, 7777777777777]\n"
     ]
    }
   ],
   "source": [
    "a = [1,2,3,4,5,6,666666666,7777777777777,6666666666,555555556,66666666,544,0]\n",
    "a.sort()\n",
    "print(a)"
   ]
  },
  {
   "cell_type": "code",
   "execution_count": 34,
   "id": "e1ba9299",
   "metadata": {},
   "outputs": [
    {
     "name": "stdout",
     "output_type": "stream",
     "text": [
      "[544, 66666666, 555555556, 2, 6666666666, 7777777777777, 666666666, 6, 5, 4, 3, 2, 1, 0]\n"
     ]
    }
   ],
   "source": [
    "a = [0,1,2,3,4,5,6,666666666,7777777777777,6666666666,2,555555556,66666666,544]\n",
    "a.reverse()\n",
    "print(a)"
   ]
  },
  {
   "cell_type": "code",
   "execution_count": 36,
   "id": "189d34ef",
   "metadata": {},
   "outputs": [
    {
     "name": "stdout",
     "output_type": "stream",
     "text": [
      "['#apple', '1Xray', 'Apple', 'Nice', 'Orange', 'Zebra', 'apple']\n"
     ]
    }
   ],
   "source": [
    "a = [\"Zebra\",\"Apple\",\"Orange\",\"Nice\",\"1Xray\",\"apple\",\"#apple\"]\n",
    "a.sort()\n",
    "print(a)"
   ]
  },
  {
   "cell_type": "code",
   "execution_count": 1,
   "id": "354ed7db",
   "metadata": {},
   "outputs": [],
   "source": [
    "#data entry\n",
    "#append() insert() extend()\n",
    "\n",
    "#Delete Value\n",
    "#del remove() pop()\n"
   ]
  },
  {
   "cell_type": "code",
   "execution_count": 5,
   "id": "e0bb3206",
   "metadata": {},
   "outputs": [
    {
     "name": "stdout",
     "output_type": "stream",
     "text": [
      "['Apple', 'Ball', 'Call']\n"
     ]
    }
   ],
   "source": [
    "#append\n",
    "a = []\n",
    "a.append(\"Apple\")\n",
    "a.append(\"Ball\")\n",
    "a.append(\"Call\")\n",
    "print(a)"
   ]
  },
  {
   "cell_type": "code",
   "execution_count": 7,
   "id": "fb2c9d69",
   "metadata": {},
   "outputs": [
    {
     "name": "stdout",
     "output_type": "stream",
     "text": [
      "Enter n = 4\n",
      "Enter x = 2\n",
      "Enter x = 3\n",
      "Enter x = 4\n",
      "Enter x = 5\n",
      "[2, 3, 4, 5]\n"
     ]
    }
   ],
   "source": [
    "#append\n",
    "a = []\n",
    "n = int(input(\"Enter n = \"))\n",
    "for i in range(n):\n",
    "    x = int(input(\"Enter x = \"))\n",
    "    a.append(x)\n",
    "print(a)"
   ]
  },
  {
   "cell_type": "code",
   "execution_count": 8,
   "id": "7da21f8c",
   "metadata": {},
   "outputs": [
    {
     "data": {
      "text/plain": [
       "[1, 100, 2, 3, 4, 5, 6, 7, 8, 9]"
      ]
     },
     "execution_count": 8,
     "metadata": {},
     "output_type": "execute_result"
    }
   ],
   "source": [
    "# insert()\n",
    "a = [1,2,3,4,5,6,7,8,9]\n",
    "a.insert(1,100)\n",
    "a"
   ]
  },
  {
   "cell_type": "code",
   "execution_count": 9,
   "id": "764eb11c",
   "metadata": {},
   "outputs": [],
   "source": [
    "#[1,\"One\",10.5]"
   ]
  },
  {
   "cell_type": "code",
   "execution_count": 12,
   "id": "d3712047",
   "metadata": {},
   "outputs": [
    {
     "data": {
      "text/plain": [
       "[1, 2, 3, 4, 5, 6, 7, 8, 9, 10]"
      ]
     },
     "execution_count": 12,
     "metadata": {},
     "output_type": "execute_result"
    }
   ],
   "source": [
    "#extend()\n",
    "a = [1,2,3,4,5,6,7]\n",
    "b = [8,9,10]\n",
    "a.extend(b)\n",
    "a"
   ]
  },
  {
   "cell_type": "code",
   "execution_count": 30,
   "id": "2cc1a399",
   "metadata": {},
   "outputs": [
    {
     "data": {
      "text/plain": [
       "['zebra', 'Cow', 'Dog', 'Cat', '1Xray', '!Apple', 'Zebra', 'cow']"
      ]
     },
     "execution_count": 30,
     "metadata": {},
     "output_type": "execute_result"
    }
   ],
   "source": [
    "#update\n",
    "a = [\"Zebra\",\"Cow\",\"Dog\",\"Cat\",\"1Xray\",\"!Apple\",\"Zebra\",\"cow\"]\n",
    "a[0] = \"zebra\"\n",
    "\n",
    "a"
   ]
  },
  {
   "cell_type": "code",
   "execution_count": 14,
   "id": "c709f167",
   "metadata": {},
   "outputs": [
    {
     "data": {
      "text/plain": [
       "7"
      ]
     },
     "execution_count": 14,
     "metadata": {},
     "output_type": "execute_result"
    }
   ],
   "source": [
    "# To find out index (it works only in single same string (eg Zebra Zebra))\n",
    "a = [\"Zebra\",\"Cow\",\"Dog\",\"Cat\",\"1Xray\",\"!Apple\",\"Zebra\",\"cow\"]\n",
    "a.index(\"cow\")"
   ]
  },
  {
   "cell_type": "code",
   "execution_count": 17,
   "id": "7b2b340a",
   "metadata": {},
   "outputs": [
    {
     "name": "stdout",
     "output_type": "stream",
     "text": [
      "0\n",
      "6\n"
     ]
    }
   ],
   "source": [
    "#to find out index having multiple same string\n",
    "a = [\"Zebra\",\"Cow\",\"Dog\",\"Cat\",\"1Xray\",\"!Apple\",\"Zebra\",\"cow\"]\n",
    "for i in range(len(a)):\n",
    "    if a[i] == \"Zebra\":\n",
    "        print(i)"
   ]
  },
  {
   "cell_type": "code",
   "execution_count": 29,
   "id": "a84b8ef6",
   "metadata": {},
   "outputs": [
    {
     "data": {
      "text/plain": [
       "['Zebra', 'Cow', 'Dog', 'Cat', '1Xray', '!Apple', 'Zebra', 'cow']"
      ]
     },
     "execution_count": 29,
     "metadata": {},
     "output_type": "execute_result"
    }
   ],
   "source": [
    "#to update both capital zebra in small letter\n",
    "a = [\"Zebra\",\"Cow\",\"Dog\",\"Cat\",\"1Xray\",\"!Apple\",\"Zebra\",\"cow\"]\n",
    "for i in range(len(a)):\n",
    "    if a[i] == \"Zebra\":\n",
    "        a[i] == \"zebra\"\n",
    "a"
   ]
  },
  {
   "cell_type": "code",
   "execution_count": 6,
   "id": "994f0daf",
   "metadata": {},
   "outputs": [
    {
     "name": "stdout",
     "output_type": "stream",
     "text": [
      "['Apple', 'Ball', 'Cat', '!dog', '1xray', 'Apple']\n"
     ]
    }
   ],
   "source": [
    "#Update multiple value\n",
    "a = [\"Apple\",\"Ball\",\"Cat\",\"!dog\",\"1xray\",\"Apple\"]\n",
    "for i in range(len(a)):\n",
    "    if a[0] == \"Apple\":\n",
    "        a[0] == \"apple\"\n",
    "print(a)"
   ]
  },
  {
   "cell_type": "code",
   "execution_count": 9,
   "id": "5d0a3936",
   "metadata": {},
   "outputs": [
    {
     "name": "stdout",
     "output_type": "stream",
     "text": [
      "['Cow', 'Dog', 'Cat', '1Xray', '!Apple', 'Zebra', 'cow']\n"
     ]
    }
   ],
   "source": [
    "# Delete\n",
    "a = [\"Zebra\",\"Cow\",\"Dog\",\"Cat\",\"1Xray\",\"!Apple\",\"Zebra\",\"cow\"]\n",
    "del a[0]\n",
    "print(a)"
   ]
  },
  {
   "cell_type": "code",
   "execution_count": 10,
   "id": "352712c3",
   "metadata": {},
   "outputs": [
    {
     "name": "stdout",
     "output_type": "stream",
     "text": [
      "['Zebra', 'Cow', 'Dog', 'Cat', '!Apple', 'Zebra', 'cow']\n"
     ]
    }
   ],
   "source": [
    "# Remove\n",
    "a = [\"Zebra\",\"Cow\",\"Dog\",\"Cat\",\"1Xray\",\"!Apple\",\"Zebra\",\"cow\"]\n",
    "a.remove(\"1Xray\")\n",
    "print(a)"
   ]
  },
  {
   "cell_type": "code",
   "execution_count": 11,
   "id": "0a5fbba0",
   "metadata": {},
   "outputs": [
    {
     "name": "stdout",
     "output_type": "stream",
     "text": [
      "['Zebra', 'Cow', 'Dog', 'Cat', '1Xray', 'Zebra', 'cow']\n"
     ]
    }
   ],
   "source": [
    "#pop\n",
    "a = [\"Zebra\",\"Cow\",\"Dog\",\"Cat\",\"1Xray\",\"!Apple\",\"Zebra\",\"cow\"]\n",
    "a.pop(5)\n",
    "print(a)"
   ]
  },
  {
   "cell_type": "code",
   "execution_count": null,
   "id": "51fc6717",
   "metadata": {},
   "outputs": [],
   "source": []
  }
 ],
 "metadata": {
  "kernelspec": {
   "display_name": "Python 3 (ipykernel)",
   "language": "python",
   "name": "python3"
  },
  "language_info": {
   "codemirror_mode": {
    "name": "ipython",
    "version": 3
   },
   "file_extension": ".py",
   "mimetype": "text/x-python",
   "name": "python",
   "nbconvert_exporter": "python",
   "pygments_lexer": "ipython3",
   "version": "3.10.9"
  }
 },
 "nbformat": 4,
 "nbformat_minor": 5
}
