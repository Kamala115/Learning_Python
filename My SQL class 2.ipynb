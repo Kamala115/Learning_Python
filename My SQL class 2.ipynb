{
 "cells": [
  {
   "cell_type": "code",
   "execution_count": null,
   "id": "1b365958",
   "metadata": {},
   "outputs": [],
   "source": [
    "for i in range(10):\n",
    "    physics = int(input(\"Enter physics marks = \"))\n",
    "    chemistry = int(input(\"Enter chemistry marks = \"))\n",
    "    math = int(input(\"Enter math marks = \"))\n",
    "    english = int(input(\"Enter english marks = \"))\n",
    "    nepali = int(input(\"Enter nepali marks = \"))\n",
    "\n",
    "    total = physics + chemistry + math + english + nepali\n",
    "\n",
    "    percentage = (total/500)*100\n",
    "    if percentage > 80 or percentage == 80:\n",
    "        print(\" The grade = A\")\n",
    "    elif percentage > 70 or percentage == 70:\n",
    "        print(\"The grade = B\")\n",
    "    elif percentage > 60 or percentage == 60:\n",
    "        print(\"The grade = C\")\n",
    "    else:\n",
    "        print(\" Invalid Operation\")\n",
    "\n",
    "    print(\"The total marks = \",total)\n",
    "    print(\"The percentage = \", percentage)\n",
    "    \n",
    "    "
   ]
  },
  {
   "cell_type": "code",
   "execution_count": null,
   "id": "2ad27692",
   "metadata": {},
   "outputs": [],
   "source": []
  }
 ],
 "metadata": {
  "kernelspec": {
   "display_name": "Python 3 (ipykernel)",
   "language": "python",
   "name": "python3"
  },
  "language_info": {
   "codemirror_mode": {
    "name": "ipython",
    "version": 3
   },
   "file_extension": ".py",
   "mimetype": "text/x-python",
   "name": "python",
   "nbconvert_exporter": "python",
   "pygments_lexer": "ipython3",
   "version": "3.10.9"
  }
 },
 "nbformat": 4,
 "nbformat_minor": 5
}
