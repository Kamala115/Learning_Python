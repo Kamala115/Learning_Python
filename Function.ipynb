{
 "cells": [
  {
   "cell_type": "markdown",
   "id": "034af5b2",
   "metadata": {},
   "source": [
    "# Function "
   ]
  },
  {
   "cell_type": "code",
   "execution_count": null,
   "id": "200c3cb4",
   "metadata": {},
   "outputs": [],
   "source": [
    "#function\n",
    "#pre-defined\n",
    "#user-defined"
   ]
  },
  {
   "cell_type": "code",
   "execution_count": 2,
   "id": "9a232ca3",
   "metadata": {},
   "outputs": [],
   "source": [
    "# pre-defined function\n",
    "#print() int() float() str() list() tuple() dict() set() etc"
   ]
  },
  {
   "cell_type": "code",
   "execution_count": 3,
   "id": "41472038",
   "metadata": {},
   "outputs": [],
   "source": [
    "# def <function_name>():             #defining function\n",
    "#      <operation>\n",
    "\n",
    "# <function_name>()    #calling function"
   ]
  },
  {
   "cell_type": "code",
   "execution_count": 4,
   "id": "d894ae70",
   "metadata": {},
   "outputs": [
    {
     "name": "stdout",
     "output_type": "stream",
     "text": [
      "Hello World\n"
     ]
    }
   ],
   "source": [
    "def hello():\n",
    "    print(\"Hello World\")\n",
    "hello()"
   ]
  },
  {
   "cell_type": "code",
   "execution_count": 5,
   "id": "8e7d3f3f",
   "metadata": {},
   "outputs": [
    {
     "name": "stdout",
     "output_type": "stream",
     "text": [
      "Enter length = 12\n",
      "Enter breadth = 23\n",
      "Enter height = 22\n",
      "6072\n"
     ]
    }
   ],
   "source": [
    "def volume():\n",
    "    l = int(input(\"Enter length = \"))   #local variable\n",
    "    b = int(input(\"Enter breadth = \"))  #local variable\n",
    "    h = int(input(\"Enter height = \"))   #local variable\n",
    "    v = l*b*h\n",
    "    print(v)\n",
    "volume()"
   ]
  },
  {
   "cell_type": "code",
   "execution_count": 1,
   "id": "a90157a4",
   "metadata": {},
   "outputs": [
    {
     "name": "stdout",
     "output_type": "stream",
     "text": [
      "Enter length = 12\n",
      "Enter breadth = 22\n",
      "Enter height = 33\n",
      "8712\n",
      "12 22 33\n"
     ]
    }
   ],
   "source": [
    "def volume():\n",
    "    global l,b,h,v\n",
    "    l = int(input(\"Enter length = \"))   #local variable\n",
    "    b = int(input(\"Enter breadth = \"))  #local variable\n",
    "    h = int(input(\"Enter height = \"))   #local variable\n",
    "    v = l*b*h\n",
    "    print(v)\n",
    "volume()\n",
    "print(l,b,h)"
   ]
  },
  {
   "cell_type": "code",
   "execution_count": 5,
   "id": "a49afd65",
   "metadata": {},
   "outputs": [
    {
     "name": "stdout",
     "output_type": "stream",
     "text": [
      "Enter length = 11\n",
      "Enter breadth = 22\n",
      "Enter height = 33\n",
      "The area =  242\n",
      "7986\n",
      "11 22 33\n"
     ]
    }
   ],
   "source": [
    "l = int(input(\"Enter length = \"))   #global variable\n",
    "b = int(input(\"Enter breadth = \"))  #global variable\n",
    "h = int(input(\"Enter height = \"))   #global variable\n",
    "def volume():\n",
    "    v = l*b*h      #local variable\n",
    "    print(v)\n",
    "area = l*b\n",
    "print(\"The area = \",area)\n",
    "volume()\n",
    "print(l,b,h)"
   ]
  },
  {
   "cell_type": "code",
   "execution_count": 6,
   "id": "5b8af687",
   "metadata": {},
   "outputs": [],
   "source": [
    "# function with argument and no return type\n",
    "#function without arguments and no return type\n",
    "# function with argument and return type\n",
    "#function without argument and return type"
   ]
  },
  {
   "cell_type": "code",
   "execution_count": 9,
   "id": "4243d271",
   "metadata": {},
   "outputs": [],
   "source": [
    "def hello(x):   #x is parameter\n",
    "    pass\n",
    "hello(\"Hello World\")   # \"Hello World is argument\""
   ]
  },
  {
   "cell_type": "code",
   "execution_count": 13,
   "id": "becf5a4a",
   "metadata": {},
   "outputs": [
    {
     "name": "stdout",
     "output_type": "stream",
     "text": [
      "Enter name = Cube\n",
      "Enter length = 11\n",
      "Enter breadth = 22\n",
      "Enter height = 33\n",
      "7986\n"
     ]
    }
   ],
   "source": [
    "def volume(x,y,z):\n",
    "    v = x*y*z    #local variable\n",
    "    print(v)\n",
    "Name = str(input(\"Enter name = \"))    \n",
    "l = int(input(\"Enter length = \"))\n",
    "b = int(input(\"Enter breadth = \"))\n",
    "h = int(input(\"Enter height = \"))\n",
    "volume(l,b,h)"
   ]
  },
  {
   "cell_type": "code",
   "execution_count": 3,
   "id": "3ae0d046",
   "metadata": {},
   "outputs": [
    {
     "name": "stdout",
     "output_type": "stream",
     "text": [
      "Customer name = Kamala Ghale\n",
      "Principle = 100000\n",
      "Time = 2\n",
      "Rate = 15\n",
      "30000.0\n"
     ]
    }
   ],
   "source": [
    "Name = input(\"Customer name = \")\n",
    "p = int(input(\"Principle = \"))\n",
    "t = float(input(\"Time = \"))\n",
    "r = float(input(\"Rate = \"))\n",
    "def interest(x,y,z):\n",
    "    I = (x*y*r)/100\n",
    "    print(I)\n",
    "    \n",
    "interest(p,t,r)"
   ]
  },
  {
   "cell_type": "code",
   "execution_count": 5,
   "id": "b1403e3f",
   "metadata": {},
   "outputs": [
    {
     "name": "stdout",
     "output_type": "stream",
     "text": [
      "Enter name = kamla\n",
      "Enter age = 21\n",
      "Enter add = Bhatarpur\n",
      "Hello World.I am kamla. I am from Bhatarpur. I am 21\n"
     ]
    }
   ],
   "source": [
    "def info(name,age,add):\n",
    "    print(f\"Hello World.I am {name}. I am from {add}. I am {age}\")\n",
    "    \n",
    "name = input(\"Enter name = \")\n",
    "age = int(input(\"Enter age = \"))\n",
    "add = input(\"Enter add = \")\n",
    "\n",
    "info(name,age,add)"
   ]
  },
  {
   "cell_type": "code",
   "execution_count": 7,
   "id": "9e9480c1",
   "metadata": {},
   "outputs": [
    {
     "name": "stdout",
     "output_type": "stream",
     "text": [
      "Enter name = Rabi\n",
      "Enter age = 21\n",
      "Enter add = Gorkha\n",
      "Hello World.I am Rabi. I am from Gorkha. I am 21 years old.\n"
     ]
    }
   ],
   "source": [
    "def info(l):\n",
    "    name,age,add = l\n",
    "    print(f\"Hello World.I am {name}. I am from {add}. I am {age} years old.\")\n",
    "    \n",
    "name = input(\"Enter name = \")\n",
    "age = int(input(\"Enter age = \"))\n",
    "add = input(\"Enter add = \")\n",
    "l = [name,age,add]\n",
    "info(l)"
   ]
  },
  {
   "cell_type": "code",
   "execution_count": 10,
   "id": "91c78d14",
   "metadata": {},
   "outputs": [
    {
     "name": "stdout",
     "output_type": "stream",
     "text": [
      "I love C++\n",
      "I love C\n",
      "I love Java\n",
      "I love Python\n"
     ]
    }
   ],
   "source": [
    "def language(lan = \"Python\"):\n",
    "    print(f\"I love {lan}\")\n",
    "language(\"C++\")\n",
    "language(\"C\")\n",
    "language(\"Java\")\n",
    "language()"
   ]
  },
  {
   "cell_type": "code",
   "execution_count": 11,
   "id": "0801c098",
   "metadata": {},
   "outputs": [],
   "source": [
    "# Return Type Function"
   ]
  },
  {
   "cell_type": "code",
   "execution_count": 12,
   "id": "f265389d",
   "metadata": {},
   "outputs": [
    {
     "data": {
      "text/plain": [
       "'HELLO WORLD'"
      ]
     },
     "execution_count": 12,
     "metadata": {},
     "output_type": "execute_result"
    }
   ],
   "source": [
    "def hello():\n",
    "    return \"HELLO WORLD\"\n",
    "\n",
    "hello()"
   ]
  },
  {
   "cell_type": "code",
   "execution_count": null,
   "id": "b7b76b7e",
   "metadata": {},
   "outputs": [],
   "source": []
  }
 ],
 "metadata": {
  "kernelspec": {
   "display_name": "Python 3 (ipykernel)",
   "language": "python",
   "name": "python3"
  },
  "language_info": {
   "codemirror_mode": {
    "name": "ipython",
    "version": 3
   },
   "file_extension": ".py",
   "mimetype": "text/x-python",
   "name": "python",
   "nbconvert_exporter": "python",
   "pygments_lexer": "ipython3",
   "version": "3.10.9"
  }
 },
 "nbformat": 4,
 "nbformat_minor": 5
}
