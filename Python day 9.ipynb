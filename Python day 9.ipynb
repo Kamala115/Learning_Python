{
 "cells": [
  {
   "cell_type": "code",
   "execution_count": 1,
   "id": "681bcfe3",
   "metadata": {},
   "outputs": [],
   "source": [
    "# Dictionary\n",
    "#   - Indexing\n",
    "#   -Multiple Data\n",
    "#   -Ordered\n",
    "#    - Mutable"
   ]
  },
  {
   "cell_type": "code",
   "execution_count": 2,
   "id": "1416e062",
   "metadata": {},
   "outputs": [],
   "source": [
    "# d = {<key>:<value>,<key>:<value>,<key>:<value>,<key>:<value>}"
   ]
  },
  {
   "cell_type": "code",
   "execution_count": 4,
   "id": "2586f686",
   "metadata": {},
   "outputs": [
    {
     "name": "stdout",
     "output_type": "stream",
     "text": [
      "{'a': 'Apple', 'b': 'Ball', 'c': 'Cat'}\n",
      "3\n"
     ]
    }
   ],
   "source": [
    " a = {\"a\":\"Apple\",\"b\":\"Ball\",\"c\":\"Cat\"}\n",
    "print(a)\n",
    "print(len(a))"
   ]
  },
  {
   "cell_type": "code",
   "execution_count": 5,
   "id": "7fea7cb7",
   "metadata": {},
   "outputs": [],
   "source": [
    "# dict()\n",
    "#{}\n"
   ]
  },
  {
   "cell_type": "code",
   "execution_count": 6,
   "id": "a2d453e3",
   "metadata": {},
   "outputs": [
    {
     "data": {
      "text/plain": [
       "{'a': 'Apple'}"
      ]
     },
     "execution_count": 6,
     "metadata": {},
     "output_type": "execute_result"
    }
   ],
   "source": [
    "a = {}\n",
    "a['a'] = \"Apple\"\n",
    "a"
   ]
  },
  {
   "cell_type": "code",
   "execution_count": 7,
   "id": "b4e4110c",
   "metadata": {},
   "outputs": [
    {
     "data": {
      "text/plain": [
       "{'a': 'Apple', 'b': 'Ball', 'c': 'Cat'}"
      ]
     },
     "execution_count": 7,
     "metadata": {},
     "output_type": "execute_result"
    }
   ],
   "source": [
    "a = {}\n",
    "a['a'] = \"Apple\"\n",
    "a['b'] = \"Ball\"\n",
    "a['c'] = \"Cat\"\n",
    "a"
   ]
  },
  {
   "cell_type": "code",
   "execution_count": 8,
   "id": "fe8b471e",
   "metadata": {},
   "outputs": [
    {
     "data": {
      "text/plain": [
       "{'a': 'apple', 'b': 'Ball', 'c': 'Cat'}"
      ]
     },
     "execution_count": 8,
     "metadata": {},
     "output_type": "execute_result"
    }
   ],
   "source": [
    "a = {\"a\":\"Apple\",\"b\":\"Ball\",\"c\":\"Cat\"}\n",
    "a['a'] = \"apple\"\n",
    "a"
   ]
  },
  {
   "cell_type": "code",
   "execution_count": 9,
   "id": "8fc72e73",
   "metadata": {},
   "outputs": [
    {
     "data": {
      "text/plain": [
       "{'a': 'Apple', 'b': 'Ball', 'c': 'Cat', 'A': 'Ant'}"
      ]
     },
     "execution_count": 9,
     "metadata": {},
     "output_type": "execute_result"
    }
   ],
   "source": [
    "a = {\"a\":\"Apple\",\"b\":\"Ball\",\"c\":\"Cat\"}\n",
    "a['A'] = \"Ant\"\n",
    "a"
   ]
  },
  {
   "cell_type": "code",
   "execution_count": 10,
   "id": "a132c585",
   "metadata": {},
   "outputs": [
    {
     "name": "stdout",
     "output_type": "stream",
     "text": [
      "a\n",
      "b\n",
      "c\n"
     ]
    }
   ],
   "source": [
    "a = {\"a\":\"Apple\",\"b\":\"Ball\",\"c\":\"Cat\"}\n",
    "for i in a:\n",
    "    print(i)"
   ]
  },
  {
   "cell_type": "code",
   "execution_count": 12,
   "id": "945bf184",
   "metadata": {},
   "outputs": [
    {
     "name": "stdout",
     "output_type": "stream",
     "text": [
      "Apple\n",
      "Ball\n",
      "Cat\n"
     ]
    }
   ],
   "source": [
    "a = {\"a\":\"Apple\",\"b\":\"Ball\",\"c\":\"Cat\"}\n",
    "for i in a.values():\n",
    "    print(i)"
   ]
  },
  {
   "cell_type": "code",
   "execution_count": 15,
   "id": "2afee029",
   "metadata": {},
   "outputs": [
    {
     "name": "stdout",
     "output_type": "stream",
     "text": [
      "('a', 'Apple')\n",
      "('b', 'Ball')\n",
      "('c', 'Cat')\n"
     ]
    }
   ],
   "source": [
    "a = {\"a\":\"Apple\",\"b\":\"Ball\",\"c\":\"Cat\"}\n",
    "for i in a.items():\n",
    "    print(i)"
   ]
  },
  {
   "cell_type": "code",
   "execution_count": 16,
   "id": "b8fbeffa",
   "metadata": {},
   "outputs": [
    {
     "name": "stdout",
     "output_type": "stream",
     "text": [
      "Enter n = 2\n",
      "Enter name = Ram\n",
      "Enter phone = 9809150089\n",
      "Enter name = Rabindra\n",
      "Enter phone = 9809145609\n",
      "{'Ram': 9809150089, 'Rabindra': 9809145609}\n"
     ]
    }
   ],
   "source": [
    "d = {}\n",
    "n = int(input(\"Enter n = \"))\n",
    "for i in range(n):\n",
    "    name = input(\"Enter name = \")\n",
    "    phone = int(input(\"Enter phone = \"))\n",
    "    d[name]= phone\n",
    "print(d)"
   ]
  },
  {
   "cell_type": "code",
   "execution_count": 17,
   "id": "b7705e4a",
   "metadata": {},
   "outputs": [
    {
     "data": {
      "text/plain": [
       "{'a': 'Apple', 'b': 'Ball', 'c': 'Cat', 'd': 'Dog'}"
      ]
     },
     "execution_count": 17,
     "metadata": {},
     "output_type": "execute_result"
    }
   ],
   "source": [
    "a = {\"a\":\"Apple\",\"b\":\"Ball\",\"c\":\"Cat\"}\n",
    "a['d'] = \"Dog\"\n",
    "a"
   ]
  },
  {
   "cell_type": "code",
   "execution_count": 18,
   "id": "ad1a5015",
   "metadata": {},
   "outputs": [
    {
     "data": {
      "text/plain": [
       "{'a': 'Apple', 'b': 'Ball', 'c': 'Cat'}"
      ]
     },
     "execution_count": 18,
     "metadata": {},
     "output_type": "execute_result"
    }
   ],
   "source": [
    "a = {}\n",
    "a['a'] = \"Apple\"\n",
    "a['b'] = \"Ball\"\n",
    "a['c'] = \"Cat\"\n",
    "a"
   ]
  },
  {
   "cell_type": "code",
   "execution_count": 19,
   "id": "e52c787e",
   "metadata": {},
   "outputs": [],
   "source": [
    "#{curly bracket vitra kaile pni No, +, * operator use hudaina}"
   ]
  },
  {
   "cell_type": "code",
   "execution_count": 20,
   "id": "1037ab3d",
   "metadata": {},
   "outputs": [
    {
     "data": {
      "text/plain": [
       "{'a': 'Apple', 'b': 'Ball', 'c': 'Cat', 'd': 'Dog', 'e': 'Egg'}"
      ]
     },
     "execution_count": 20,
     "metadata": {},
     "output_type": "execute_result"
    }
   ],
   "source": [
    "a = {\"a\":\"Apple\",\"b\":\"Ball\",\"c\":\"Cat\"}\n",
    "b = {\"d\":\"Dog\",'e':\"Egg\"}\n",
    "a.update(b)\n",
    "a"
   ]
  },
  {
   "cell_type": "code",
   "execution_count": 21,
   "id": "1391eca1",
   "metadata": {},
   "outputs": [
    {
     "data": {
      "text/plain": [
       "{'b': 'Ball', 'c': 'Cat'}"
      ]
     },
     "execution_count": 21,
     "metadata": {},
     "output_type": "execute_result"
    }
   ],
   "source": [
    "#del\n",
    "a = {\"a\":\"Apple\",\"b\":\"Ball\",\"c\":\"Cat\"}\n",
    "del a['a']\n",
    "a"
   ]
  },
  {
   "cell_type": "code",
   "execution_count": 22,
   "id": "c656f7d7",
   "metadata": {},
   "outputs": [],
   "source": [
    "# dictionary ma remove() use hudaina"
   ]
  },
  {
   "cell_type": "code",
   "execution_count": 23,
   "id": "0079fd02",
   "metadata": {},
   "outputs": [
    {
     "name": "stdout",
     "output_type": "stream",
     "text": [
      "{'b': 'Ball', 'c': 'Cat', 'd': 'Dog', 'e': 'Egg'}\n",
      "Apple\n"
     ]
    }
   ],
   "source": [
    "#pop\n",
    "a = {'a': 'Apple', 'b': 'Ball', 'c': 'Cat', 'd': 'Dog', 'e': 'Egg'}\n",
    "b = a.pop('a')\n",
    "print(a)\n",
    "print(b)"
   ]
  },
  {
   "cell_type": "code",
   "execution_count": 24,
   "id": "72473ce5",
   "metadata": {},
   "outputs": [
    {
     "data": {
      "text/plain": [
       "{'Ram': [9809150089, 9869058115], 'Shyam': [9879068115, 9808140079]}"
      ]
     },
     "execution_count": 24,
     "metadata": {},
     "output_type": "execute_result"
    }
   ],
   "source": [
    "a = {'Ram':[9809150089,9869058115],'Shyam':[9879068115,9808140079]}\n",
    "a"
   ]
  },
  {
   "cell_type": "code",
   "execution_count": 25,
   "id": "05e8adde",
   "metadata": {},
   "outputs": [
    {
     "data": {
      "text/plain": [
       "9809150089"
      ]
     },
     "execution_count": 25,
     "metadata": {},
     "output_type": "execute_result"
    }
   ],
   "source": [
    "a['Ram'][0]"
   ]
  },
  {
   "cell_type": "code",
   "execution_count": 27,
   "id": "02854bec",
   "metadata": {},
   "outputs": [
    {
     "data": {
      "text/plain": [
       "{'Ram': [9800000000, 9869058115], 'Shyam': [9879068115, 9808140079]}"
      ]
     },
     "execution_count": 27,
     "metadata": {},
     "output_type": "execute_result"
    }
   ],
   "source": [
    "a['Ram'][0] = 9800000000\n",
    "a"
   ]
  },
  {
   "cell_type": "code",
   "execution_count": 1,
   "id": "57265d66",
   "metadata": {},
   "outputs": [
    {
     "name": "stdout",
     "output_type": "stream",
     "text": [
      "Enter n = 2\n",
      "Enter name = Ram\n",
      "Enter ntc phone = 9869058115\n",
      "Enter ncell phone = 9869058115\n",
      "Enter name = Sita\n",
      "Enter ntc phone = 9869058115\n",
      "Enter ncell phone = 9869058115\n",
      "{'Ram': [9869058115, 9869058115], 'Sita': [9869058115, 9869058115]}\n"
     ]
    }
   ],
   "source": [
    "d = {}\n",
    "n = int(input(\"Enter n = \"))\n",
    "for i in range(n):\n",
    "    name = input(\"Enter name = \")\n",
    "    ntc_phone = int(input(\"Enter ntc phone = \"))\n",
    "    ncell_phone = int(input(\"Enter ncell phone = \"))\n",
    "    d[name]= [ntc_phone,ncell_phone]\n",
    "print(d)"
   ]
  },
  {
   "cell_type": "code",
   "execution_count": 7,
   "id": "58651f61",
   "metadata": {},
   "outputs": [
    {
     "data": {
      "text/plain": [
       "{'name': ['Ram', 'Sita', 'Laxman', 'Ram'],\n",
       " 'age': [22, 20, 17, 78],\n",
       " 'add': ['Kathmandu', 'Janakpur', 'Kathmandu', 'Chitwan']}"
      ]
     },
     "execution_count": 7,
     "metadata": {},
     "output_type": "execute_result"
    }
   ],
   "source": [
    "info = {'name': ['Ram','Sita','Laxman','Ram'],'age': [22,20,17,78],'add': [\"Kathmandu\",\"Janakpur\",\"Kathmandu\",\"Chitwan\"]}\n",
    "info"
   ]
  },
  {
   "cell_type": "code",
   "execution_count": 6,
   "id": "a6c1aa4d",
   "metadata": {},
   "outputs": [
    {
     "name": "stdout",
     "output_type": "stream",
     "text": [
      "Ram\n",
      "22\n",
      "Kathmandu\n"
     ]
    }
   ],
   "source": [
    "print(info['name'][0])\n",
    "print(info['age'][0])\n",
    "print(info['add'][0])"
   ]
  },
  {
   "cell_type": "code",
   "execution_count": 10,
   "id": "a99df052",
   "metadata": {},
   "outputs": [
    {
     "data": {
      "text/plain": [
       "['Ram', 'Sita', 'Laxman', 'Ram']"
      ]
     },
     "execution_count": 10,
     "metadata": {},
     "output_type": "execute_result"
    }
   ],
   "source": [
    "\n",
    "info['name']"
   ]
  },
  {
   "cell_type": "code",
   "execution_count": 11,
   "id": "bdf4d798",
   "metadata": {},
   "outputs": [
    {
     "name": "stdout",
     "output_type": "stream",
     "text": [
      "0\n",
      "3\n"
     ]
    }
   ],
   "source": [
    "c = 0\n",
    "for i in info['name']:\n",
    "    if \"Ram\" == i:\n",
    "        print(c)\n",
    "    c = c + 1"
   ]
  },
  {
   "cell_type": "code",
   "execution_count": 5,
   "id": "a549fdbe",
   "metadata": {},
   "outputs": [
    {
     "name": "stdout",
     "output_type": "stream",
     "text": [
      "1\n",
      "2\n",
      "3\n",
      "4\n"
     ]
    }
   ],
   "source": [
    "l = []\n",
    "c = 0\n",
    "info = {'name': ['Ram','Sita','Laxman','Ram'],'age': [22,20,17,78],'add': [\"Kathmandu\",\"Janakpur\",\"Kathmandu\",\"Chitwan\"]}\n",
    "for i in info['name']:\n",
    "    if \"Ram\" == i:\n",
    "        l.append(c)\n",
    "    c = c + 1\n",
    "    print(c)"
   ]
  },
  {
   "cell_type": "code",
   "execution_count": 18,
   "id": "449a6d7c",
   "metadata": {},
   "outputs": [
    {
     "name": "stdout",
     "output_type": "stream",
     "text": [
      "Ram 22 Kathmandu\n",
      "Ram 78 Chitwan\n"
     ]
    }
   ],
   "source": [
    "c = 0\n",
    "for i in info['name']:\n",
    "    if \"Ram\" == i:\n",
    "        print(info['name'][c],info['age'][c],info['add'][c])\n",
    "    c = c + 1"
   ]
  },
  {
   "cell_type": "code",
   "execution_count": 14,
   "id": "1f665391",
   "metadata": {},
   "outputs": [
    {
     "data": {
      "text/plain": [
       "{'name': 'ram', 'age': '20', 'add': 'Bharatpur'}"
      ]
     },
     "execution_count": 14,
     "metadata": {},
     "output_type": "execute_result"
    }
   ],
   "source": [
    "# dict inside list\n",
    "data = [{'name':'ram','age':'20','add':'Bharatpur'},\n",
    "        {'name':'Shyam','age':'29','add':'Nagarkot'},\n",
    "        {'name':'Gam','age':'80','add':'Kathmandu'},\n",
    "       {'name':'Pam','age':'40','add':'Chitwan'}]\n",
    "data[0]"
   ]
  },
  {
   "cell_type": "code",
   "execution_count": 7,
   "id": "d42efe88",
   "metadata": {},
   "outputs": [
    {
     "data": {
      "text/plain": [
       "{'name': 'Gam', 'age': '80', 'add': ['Butwal', 'Chitwan']}"
      ]
     },
     "execution_count": 7,
     "metadata": {},
     "output_type": "execute_result"
    }
   ],
   "source": [
    "# dict inside list\n",
    "data = [{'name':'ram','age':'20','add':['Bharatpur','kathmandu']},\n",
    "        {'name':'Shyam','age':'29','add':['Butwal','Banepa']},\n",
    "        {'name':'Gam','age':'80','add':['Butwal','Chitwan']},\n",
    "       {'name':'Pam','age':'40','add':['Chitwan','Chitwan']}]\n",
    "data[2]"
   ]
  },
  {
   "cell_type": "code",
   "execution_count": 18,
   "id": "53d78065",
   "metadata": {},
   "outputs": [
    {
     "data": {
      "text/plain": [
       "{'name': 'ram',\n",
       " 'age': '20',\n",
       " 'add': {'temporary': 'Bharatpur', 'permanent': 'Kathmandu'}}"
      ]
     },
     "execution_count": 18,
     "metadata": {},
     "output_type": "execute_result"
    }
   ],
   "source": [
    "# dict inside dict\n",
    "data = {1:{'name':'ram','age':'20','add':{'temporary':'Bharatpur','permanent':'Kathmandu'}},\n",
    "        2:{'name':'Shyam','age':'29','add':'Nagarkot'},\n",
    "        3:{'name':'Gam','age':'80','add':'Kathmandu'},\n",
    "       4:{'name':'Pam','age':'40','add':'Chitwan'}}\n",
    "data[1]"
   ]
  },
  {
   "cell_type": "code",
   "execution_count": 1,
   "id": "35ab15b6",
   "metadata": {},
   "outputs": [],
   "source": [
    "# WAP to create dictionary inside dictionary in CRUD\n",
    "# WAP to create list inside dictionary in CRUD\n",
    "# WAP to create dictionary inside list in CRUD."
   ]
  },
  {
   "cell_type": "code",
   "execution_count": 2,
   "id": "ef4666ab",
   "metadata": {},
   "outputs": [
    {
     "name": "stdout",
     "output_type": "stream",
     "text": [
      "Enter n = 3\n",
      "Enter name = KAmala\n",
      "Enter age = 22\n",
      "Enter add = Bharatpur, Chitwan\n",
      "Enter name = Rabi Gurung\n",
      "Enter age = 24\n",
      "Enter add = Gorkha,Nepal\n",
      "Enter name = Chunu Maya\n",
      "Enter age = 21\n",
      "Enter add = Kathmandu,Nepal\n",
      "{'name': ['KAmala', 'Rabi Gurung', 'Chunu Maya'], 'age': [22, 24, 21], 'add': ['Bharatpur, Chitwan', 'Gorkha,Nepal', 'Kathmandu,Nepal']}\n"
     ]
    }
   ],
   "source": [
    "# WAP to create list inside dictionary in CRUD.\n",
    "d = {'name':[],'age':[],'add':[]}\n",
    "n = int(input(\"Enter n = \"))\n",
    "for i in range(n):\n",
    "    name = input(\"Enter name = \")\n",
    "    age = int(input(\"Enter age = \"))\n",
    "    add = input(\"Enter add = \")\n",
    "    d['name'].append(name)\n",
    "    d['age'].append(age)\n",
    "    d['add'].append(add)\n",
    "\n",
    "print(d)"
   ]
  },
  {
   "cell_type": "code",
   "execution_count": 5,
   "id": "578ce839",
   "metadata": {},
   "outputs": [
    {
     "name": "stdout",
     "output_type": "stream",
     "text": [
      "Enter n = 2\n",
      "Enter name = kamala\n",
      "Enter age = 22\n",
      "Enter add = bharatpur\n",
      "Enter name = rabi\n",
      "Enter age = 22\n",
      "Enter add = gorkha\n",
      "[{'name': 'kamala', 'age': 22, 'add': 'bharatpur'}, {'name': 'rabi', 'age': 22, 'add': 'gorkha'}]\n"
     ]
    }
   ],
   "source": [
    "# WAP to create dictionary inside list in CRUD.\n",
    "a = []\n",
    "n = int(input(\"Enter n = \"))\n",
    "for i in range(n):\n",
    "    name = input(\"Enter name = \")\n",
    "    age = int(input(\"Enter age = \"))\n",
    "    add = input(\"Enter add = \")\n",
    "    data = {'name':name,'age':age,'add':add}\n",
    "    a.append(data)\n",
    "    \n",
    "print(a)"
   ]
  },
  {
   "cell_type": "code",
   "execution_count": 7,
   "id": "26ab0a36",
   "metadata": {},
   "outputs": [
    {
     "name": "stdout",
     "output_type": "stream",
     "text": [
      "Enter n = 2\n",
      "Enter product_name = Bread\n",
      "Enter price = 60\n",
      "Enter quantity = 2\n",
      "Enter product_name = Flour\n",
      "Enter price = 34\n",
      "Enter quantity = 25\n",
      "Total price =  850\n",
      "{'product_name': ['Bread', 'Flour'], 'price': [60, 34], 'quantity': [2, 25], 'Total': [120, 850]}\n"
     ]
    }
   ],
   "source": [
    "# WAP to create list inside dictionary in CRUD.\n",
    "a = {'product_name':[],'price':[],'quantity':[],'Total':[]}\n",
    "n = int(input(\"Enter n = \"))\n",
    "for i in range(n):\n",
    "    product_name = input(\"Enter product_name = \")\n",
    "    price = int(input(\"Enter price = \"))\n",
    "    quantity = int(input(\"Enter quantity = \"))\n",
    "    Total = price * quantity\n",
    "    a['product_name'].append(product_name)\n",
    "    a['price'].append(price)\n",
    "    a['quantity'].append(quantity)\n",
    "    a['Total'].append(Total)\n",
    "print(\"Total price = \",Total)\n",
    "print(a)\n",
    "    \n",
    "    "
   ]
  },
  {
   "cell_type": "code",
   "execution_count": 8,
   "id": "9160dbad",
   "metadata": {},
   "outputs": [
    {
     "name": "stdout",
     "output_type": "stream",
     "text": [
      "Enter n = 2\n",
      "Enter product_name = Bread\n",
      "Enter price = 22\n",
      "Enter quantity = 3\n",
      "Enter product_name = Flour\n",
      "Enter price = 45\n",
      "Enter quantity = 6\n",
      "Total price =  270\n",
      "[{'product_name': 'Bread', 'price': 22, 'quantity': 3, 'Total': 66}, {'product_name': 'Flour', 'price': 45, 'quantity': 6, 'Total': 270}]\n"
     ]
    }
   ],
   "source": [
    "# WAP to create dictionary inside list in CRUD.\n",
    "a = []\n",
    "n = int(input(\"Enter n = \"))\n",
    "for i in range(n):\n",
    "    product_name = input(\"Enter product_name = \")\n",
    "    price = int(input(\"Enter price = \"))\n",
    "    quantity = int(input(\"Enter quantity = \"))\n",
    "    Total = price * quantity\n",
    "    data = {'product_name':product_name,'price':price,'quantity':quantity,'Total':Total}\n",
    "    a.append(data)\n",
    "print(\"Total price = \",Total)\n",
    "print(a)"
   ]
  },
  {
   "cell_type": "code",
   "execution_count": 11,
   "id": "f4c44fec",
   "metadata": {},
   "outputs": [
    {
     "name": "stdout",
     "output_type": "stream",
     "text": [
      "Enter n = 2\n",
      "Enter product_name = red\n",
      "Enter price = 23\n",
      "Enter quantity = 3\n",
      "Enter product_name = blue\n",
      "Enter price = 55\n",
      "Enter quantity = 4\n",
      "Total price =  220\n",
      "{0: {'product_name': 'red', 'price': 23, 'quantity': 3, 'Total': 69}, 1: {'product_name': 'blue', 'price': 55, 'quantity': 4, 'Total': 220}}\n"
     ]
    }
   ],
   "source": [
    "# WAP to create dictionary inside dictionary in CRUD.\n",
    "a = {}\n",
    "n = int(input(\"Enter n = \"))\n",
    "for i in range(n):\n",
    "    product_name = input(\"Enter product_name = \")\n",
    "    price = int(input(\"Enter price = \"))\n",
    "    quantity = int(input(\"Enter quantity = \"))\n",
    "    Total = price * quantity\n",
    "    a[i] = {'product_name':product_name,'price':price,'quantity':quantity,'Total':Total}\n",
    "\n",
    "print(\"Total price = \",Total)\n",
    "print(a)"
   ]
  },
  {
   "cell_type": "code",
   "execution_count": 12,
   "id": "5a0fe0cf",
   "metadata": {},
   "outputs": [
    {
     "name": "stdout",
     "output_type": "stream",
     "text": [
      "Enter n = 2\n",
      "Enter name = ASDD\n",
      "Enter age = 22\n",
      "Enter add = 3333dfvd\n",
      "Enter name = dfgt\n",
      "Enter age = 33\n",
      "Enter add = 23e3fef\n",
      "{0: {'name': 'ASDD', 'age': 22, 'add': '3333dfvd'}, 1: {'name': 'dfgt', 'age': 33, 'add': '23e3fef'}}\n"
     ]
    }
   ],
   "source": [
    "# WAP to create dictionary inside dictionary in CRUD.\n",
    "a = {}\n",
    "n = int(input(\"Enter n = \"))\n",
    "for i in range(n):\n",
    "    name = input(\"Enter name = \")\n",
    "    age = int(input(\"Enter age = \"))\n",
    "    add = input(\"Enter add = \")\n",
    "    a[i] = {'name':name,'age':age,'add':add}\n",
    "\n",
    "print(a)"
   ]
  },
  {
   "cell_type": "code",
   "execution_count": null,
   "id": "beca951a",
   "metadata": {},
   "outputs": [],
   "source": []
  }
 ],
 "metadata": {
  "kernelspec": {
   "display_name": "Python 3 (ipykernel)",
   "language": "python",
   "name": "python3"
  },
  "language_info": {
   "codemirror_mode": {
    "name": "ipython",
    "version": 3
   },
   "file_extension": ".py",
   "mimetype": "text/x-python",
   "name": "python",
   "nbconvert_exporter": "python",
   "pygments_lexer": "ipython3",
   "version": "3.10.9"
  }
 },
 "nbformat": 4,
 "nbformat_minor": 5
}
