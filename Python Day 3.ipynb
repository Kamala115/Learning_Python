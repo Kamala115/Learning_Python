{
 "cells": [
  {
   "cell_type": "code",
   "execution_count": 2,
   "id": "65362aac",
   "metadata": {},
   "outputs": [
    {
     "name": "stdout",
     "output_type": "stream",
     "text": [
      "13\n"
     ]
    }
   ],
   "source": [
    "print (10 + 3)"
   ]
  },
  {
   "cell_type": "code",
   "execution_count": 10,
   "id": "56de2a8c",
   "metadata": {},
   "outputs": [],
   "source": [
    "#if <condition>:\n",
    "   # <operation>\n",
    "    \n",
    "#elif <condition>:\n",
    "    #<operation>\n",
    "    \n",
    "#elif <condition>:\n",
    "    #<operation>\n",
    "    \n",
    "#elif <condition>:\n",
    "    #<operation>\n",
    "    \n",
    "#else <condition>:\n",
    "    #<operation>"
   ]
  },
  {
   "cell_type": "code",
   "execution_count": 8,
   "id": "495ff406",
   "metadata": {},
   "outputs": [
    {
     "name": "stdout",
     "output_type": "stream",
     "text": [
      "a is greater than b\n"
     ]
    }
   ],
   "source": [
    "a = 23\n",
    "b = 12\n",
    "if a>b:\n",
    "    print(\"a is greater than b\")\n",
    "elif a == b:\n",
    "    print(\"a is equal to b\")"
   ]
  },
  {
   "cell_type": "code",
   "execution_count": 9,
   "id": "ea3595a2",
   "metadata": {},
   "outputs": [
    {
     "name": "stdout",
     "output_type": "stream",
     "text": [
      "b is greater than a\n"
     ]
    }
   ],
   "source": [
    "a = 20\n",
    "b = 33\n",
    "if a > b:\n",
    "    print(\"a is greater than b\")\n",
    "elif b > a:\n",
    "    print(\"b is greater than a\")\n",
    "else:\n",
    "    print(\"a and b is equal\")"
   ]
  },
  {
   "cell_type": "code",
   "execution_count": 11,
   "id": "1c8fd496",
   "metadata": {},
   "outputs": [
    {
     "data": {
      "text/plain": [
       "True"
      ]
     },
     "execution_count": 11,
     "metadata": {},
     "output_type": "execute_result"
    }
   ],
   "source": [
    "a = 22\n",
    "b = 33\n",
    "print(a != b)"
   ]
  },
  {
   "cell_type": "code",
   "execution_count": 12,
   "id": "cc755f30",
   "metadata": {},
   "outputs": [
    {
     "data": {
      "text/plain": [
       "False"
      ]
     },
     "execution_count": 12,
     "metadata": {},
     "output_type": "execute_result"
    }
   ],
   "source": [
    "print(a > b)"
   ]
  },
  {
   "cell_type": "code",
   "execution_count": 13,
   "id": "d79e907c",
   "metadata": {},
   "outputs": [
    {
     "data": {
      "text/plain": [
       "True"
      ]
     },
     "execution_count": 13,
     "metadata": {},
     "output_type": "execute_result"
    }
   ],
   "source": [
    "print(a < b)"
   ]
  },
  {
   "cell_type": "code",
   "execution_count": 14,
   "id": "cb93cb2c",
   "metadata": {},
   "outputs": [
    {
     "data": {
      "text/plain": [
       "False"
      ]
     },
     "execution_count": 14,
     "metadata": {},
     "output_type": "execute_result"
    }
   ],
   "source": [
    "print(a == b)"
   ]
  },
  {
   "cell_type": "code",
   "execution_count": 15,
   "id": "9bff8927",
   "metadata": {},
   "outputs": [
    {
     "data": {
      "text/plain": [
       "True"
      ]
     },
     "execution_count": 15,
     "metadata": {},
     "output_type": "execute_result"
    }
   ],
   "source": [
    "print(a <= b)"
   ]
  },
  {
   "cell_type": "code",
   "execution_count": 17,
   "id": "ec701f8f",
   "metadata": {},
   "outputs": [
    {
     "name": "stdout",
     "output_type": "stream",
     "text": [
      "False\n"
     ]
    }
   ],
   "source": [
    "print(a >= b)"
   ]
  },
  {
   "cell_type": "code",
   "execution_count": 20,
   "id": "63b6026d",
   "metadata": {},
   "outputs": [
    {
     "name": "stdout",
     "output_type": "stream",
     "text": [
      "Enter x =78\n",
      "The number is positive\n"
     ]
    }
   ],
   "source": [
    "x = int(input(\"Enter x =\"))\n",
    "if x >= 0:\n",
    "    print(\"The number is positive\")\n",
    "else:\n",
    "    print(\"The number is negative\")"
   ]
  },
  {
   "cell_type": "code",
   "execution_count": 21,
   "id": "e09e877f",
   "metadata": {},
   "outputs": [
    {
     "name": "stdout",
     "output_type": "stream",
     "text": [
      "Enter x = 33\n",
      "Enter y = 22.444444444444444444444\n",
      "x is not equal to y\n"
     ]
    }
   ],
   "source": [
    "x = int(input(\"Enter x = \"))\n",
    "y = float(input(\"Enter y = \"))\n",
    "if x != y:\n",
    "    print(\"x is not equal to y\")\n",
    "elif x == y:\n",
    "    print(\"x is equal to y\")\n",
    "elif x > y:\n",
    "    print(\"x is greater than y\")\n",
    "else:\n",
    "    print(\"x is smaller than y\")"
   ]
  },
  {
   "cell_type": "code",
   "execution_count": 22,
   "id": "fdc2ed2b",
   "metadata": {},
   "outputs": [
    {
     "data": {
      "text/plain": [
       "True"
      ]
     },
     "execution_count": 22,
     "metadata": {},
     "output_type": "execute_result"
    }
   ],
   "source": [
    "10 % 2 == 0"
   ]
  },
  {
   "cell_type": "code",
   "execution_count": 23,
   "id": "6275a7fc",
   "metadata": {},
   "outputs": [
    {
     "name": "stdout",
     "output_type": "stream",
     "text": [
      "Enter x = 25\n",
      "The number is negative\n"
     ]
    }
   ],
   "source": [
    "x = int(input(\"Enter x = \"))\n",
    "if x%2 == 0:\n",
    "    print(\"The number is positive\")\n",
    "else:\n",
    "    print(\"The number is negative\")"
   ]
  },
  {
   "cell_type": "code",
   "execution_count": 29,
   "id": "cfb62154",
   "metadata": {},
   "outputs": [
    {
     "name": "stdout",
     "output_type": "stream",
     "text": [
      "Enter a = 12\n",
      "Enter b = 12\n",
      "12 12 are equal\n"
     ]
    }
   ],
   "source": [
    "a = int(input(\"Enter a = \"))\n",
    "b = int(input(\"Enter b = \"))\n",
    "if a > b:\n",
    "    print(a,\"is greater\")\n",
    "elif b >a:\n",
    "    print(b,\"is greater\")\n",
    "else:\n",
    "    print(a,b,\"are equal\")"
   ]
  },
  {
   "cell_type": "code",
   "execution_count": 33,
   "id": "368a9f54",
   "metadata": {},
   "outputs": [
    {
     "name": "stdout",
     "output_type": "stream",
     "text": [
      "Enter physics marks = 89\n",
      "Enter chemistry marks = 99\n",
      "Enter math marks = 88\n",
      "Enter english marks = 89\n",
      "Enter nepali marks = 99\n",
      "The total marks =  464\n",
      "The percentage =  92.80000000000001\n",
      "The grade =   A+\n"
     ]
    }
   ],
   "source": [
    "physics = int(input(\"Enter physics marks = \"))\n",
    "chemistry = int(input(\"Enter chemistry marks = \"))\n",
    "math = int(input(\"Enter math marks = \"))\n",
    "english = int(input(\"Enter english marks = \"))\n",
    "nepali = int(input(\"Enter nepali marks = \"))\n",
    "\n",
    "total = physics + chemistry + math + english + nepali\n",
    "\n",
    "percentage = (total/500)*100\n",
    "if percentage >= 90:\n",
    "    grade = 'A+'\n",
    "elif percentage >= 80:\n",
    "    grade = 'A'\n",
    "elif percentage >= 70:\n",
    "    grade = 'B'\n",
    "elif percentage >= 60:\n",
    "    grade = 'c'\n",
    "else:\n",
    "    grade = 'D'\n",
    "\n",
    "print(\"The total marks = \",total)\n",
    "print(\"The percentage = \", percentage)\n",
    "print(\"The grade =  \", grade)"
   ]
  },
  {
   "cell_type": "code",
   "execution_count": 35,
   "id": "41eedc20",
   "metadata": {},
   "outputs": [
    {
     "name": "stdout",
     "output_type": "stream",
     "text": [
      "Enter physics marks = 88\n",
      "Enter chemistry marks = 66\n",
      "Enter math marks = 66\n",
      "Enter english marks = 66\n",
      "Enter nepali marks = 66\n",
      " The grade = B\n",
      "The total marks =  352\n",
      "The percentage =  70.39999999999999\n"
     ]
    }
   ],
   "source": [
    "physics = int(input(\"Enter physics marks = \"))\n",
    "chemistry = int(input(\"Enter chemistry marks = \"))\n",
    "math = int(input(\"Enter math marks = \"))\n",
    "english = int(input(\"Enter english marks = \"))\n",
    "nepali = int(input(\"Enter nepali marks = \"))\n",
    "\n",
    "total = physics + chemistry + math + english + nepali\n",
    "\n",
    "percentage = (total/500)*100\n",
    "if percentage >= 80:\n",
    "    print(\" The grade = A\")\n",
    "else:\n",
    "    print(\" The grade = B\")\n",
    "\n",
    "print(\"The total marks = \",total)\n",
    "print(\"The percentage = \", percentage)"
   ]
  },
  {
   "cell_type": "code",
   "execution_count": 36,
   "id": "983abb43",
   "metadata": {},
   "outputs": [],
   "source": [
    "#Logical\n",
    "# and &\n",
    "# or /"
   ]
  },
  {
   "cell_type": "code",
   "execution_count": 37,
   "id": "2d6ff9e7",
   "metadata": {},
   "outputs": [
    {
     "name": "stdout",
     "output_type": "stream",
     "text": [
      "True\n",
      "False\n",
      "False\n",
      "False\n"
     ]
    }
   ],
   "source": [
    "print(True and True)\n",
    "print(True and False)\n",
    "print(False and True)\n",
    "print(False and False)"
   ]
  },
  {
   "cell_type": "code",
   "execution_count": 38,
   "id": "f09a22fd",
   "metadata": {},
   "outputs": [
    {
     "name": "stdout",
     "output_type": "stream",
     "text": [
      "True\n",
      "True\n",
      "True\n",
      "False\n"
     ]
    }
   ],
   "source": [
    "print(True or False)\n",
    "print(False or True)\n",
    "print(True or True)\n",
    "print(False or False)"
   ]
  },
  {
   "cell_type": "code",
   "execution_count": 41,
   "id": "73a20339",
   "metadata": {},
   "outputs": [
    {
     "name": "stdout",
     "output_type": "stream",
     "text": [
      "Enter a = 33\n",
      "Enter b = 0\n",
      "Enter + - / * = /\n",
      "The value of b cannot be 0\n"
     ]
    }
   ],
   "source": [
    "#Basic Calculator\n",
    "a = int(input(\"Enter a = \"))\n",
    "b = int(input(\"Enter b = \"))\n",
    "o = input(\"Enter + - / * = \" )\n",
    "if o == '+':\n",
    "    print(a+b)\n",
    "elif o == '-':\n",
    "    print(a-b)\n",
    "elif o == '/' and b != 0:\n",
    "    print(a/b)\n",
    "elif o == '/' and b == 0:\n",
    "    print(\"The value of b cannot be 0\")\n",
    "elif o == '*':\n",
    "    print(a*b)\n",
    "else:\n",
    "    print('Invalid Operation')"
   ]
  },
  {
   "cell_type": "code",
   "execution_count": 7,
   "id": "9f871bbd",
   "metadata": {},
   "outputs": [
    {
     "name": "stdout",
     "output_type": "stream",
     "text": [
      "Enter a = 22\n",
      "Enter b = 0\n",
      "Enter c = 33\n",
      "Enter + - / * % ** = /\n",
      "The value of b cannot be 0\n"
     ]
    }
   ],
   "source": [
    "# Basic Calculator Making Process\n",
    "a = int(input(\"Enter a = \"))\n",
    "b = int(input(\"Enter b = \"))\n",
    "c = float(input(\"Enter c = \"))\n",
    "o = input(\"Enter + - / * % ** = \")\n",
    "if o == '+':\n",
    "    print(a+b+c)\n",
    "elif o == '-':\n",
    "    print(a-b-c)\n",
    "elif o == '/' and b != 0:\n",
    "    print(a/b/c)\n",
    "elif o == '/' and b == 0:\n",
    "    print(\"The value of b cannot be 0\")\n",
    "elif o == '*':\n",
    "    print(a*b*c)\n",
    "elif o == '%':\n",
    "    print(a%b%c)\n",
    "elif o == '**':\n",
    "    print(a**b**c)\n",
    "else:\n",
    "    print(\"Invalid Operation\")\n"
   ]
  },
  {
   "cell_type": "code",
   "execution_count": 8,
   "id": "c50737d4",
   "metadata": {},
   "outputs": [
    {
     "name": "stdout",
     "output_type": "stream",
     "text": [
      "Enter principle = 50000\n",
      "Enter time = 0.25\n",
      "Enter rate = 11.06\n",
      "The Interest is  1382.5\n"
     ]
    }
   ],
   "source": [
    "#How to calculate Simple Interest if the principle is Rs. 50000, with the rate of 11 % for the time period of 3 months?\n",
    "principle = int(input(\"Enter principle = \"))\n",
    "time = float(input(\"Enter time = \"))\n",
    "rate = float(input(\"Enter rate = \"))\n",
    "\n",
    "Interest = ( principle * time * rate )/100 \n",
    "\n",
    "print(\"The Interest is \",Interest)"
   ]
  },
  {
   "cell_type": "code",
   "execution_count": 9,
   "id": "0fdf0328",
   "metadata": {},
   "outputs": [
    {
     "name": "stdout",
     "output_type": "stream",
     "text": [
      "2.5\n"
     ]
    }
   ],
   "source": [
    "x = 2.5\n",
    "print(x)"
   ]
  },
  {
   "cell_type": "code",
   "execution_count": 11,
   "id": "0d494ac1",
   "metadata": {},
   "outputs": [
    {
     "name": "stdout",
     "output_type": "stream",
     "text": [
      "Rabi\n"
     ]
    }
   ],
   "source": [
    "a = 'Rabi'\n",
    "print(a)"
   ]
  },
  {
   "cell_type": "code",
   "execution_count": 5,
   "id": "72715950",
   "metadata": {},
   "outputs": [
    {
     "name": "stdout",
     "output_type": "stream",
     "text": [
      "Enter your name = Kamala Ghale\n",
      "Enter your address = Bharatpur, Chitwan\n",
      "Enter your age = 22\n",
      "Enter your phone number = 9869058115\n",
      "Info is =  Kamala GhaleBharatpur, Chitwan\n",
      "  Hello I m Kamala Ghale I m from Bharatpur, Chitwan\n"
     ]
    }
   ],
   "source": [
    "name = str(input(\"Enter your name = \"))\n",
    "address = str(input(\"Enter your address = \"))\n",
    "age = int(input(\"Enter your age = \"))\n",
    "phonenumber = int(input(\"Enter your phone number = \"))\n",
    "\n",
    "info = name + address\n",
    "Information = \"Hello I m \" + name + \" I m from \" + address\n",
    "\n",
    "print(\"Info is = \",info)\n",
    "print(\" \",Information)"
   ]
  }
 ],
 "metadata": {
  "kernelspec": {
   "display_name": "Python 3 (ipykernel)",
   "language": "python",
   "name": "python3"
  },
  "language_info": {
   "codemirror_mode": {
    "name": "ipython",
    "version": 3
   },
   "file_extension": ".py",
   "mimetype": "text/x-python",
   "name": "python",
   "nbconvert_exporter": "python",
   "pygments_lexer": "ipython3",
   "version": "3.10.9"
  }
 },
 "nbformat": 4,
 "nbformat_minor": 5
}
