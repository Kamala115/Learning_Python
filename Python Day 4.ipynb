{
 "cells": [
  {
   "cell_type": "code",
   "execution_count": 1,
   "id": "10674c88",
   "metadata": {},
   "outputs": [
    {
     "name": "stdout",
     "output_type": "stream",
     "text": [
      "Dhirajmagar\n",
      "Rajeshhamal\n",
      "Paulshah\n"
     ]
    }
   ],
   "source": [
    "heroname = {\"Rajeshhamal\",\"Paulshah\",\"Dhirajmagar\",}\n",
    "for x in heroname :\n",
    "    print(x)"
   ]
  },
  {
   "cell_type": "code",
   "execution_count": 2,
   "id": "480d1e96",
   "metadata": {},
   "outputs": [
    {
     "name": "stdout",
     "output_type": "stream",
     "text": [
      "Enter value of a = 22\n",
      "Enter value of b = 33\n",
      "Enter value of c = 2\n",
      "Enter value of d = 3\n",
      "The value of z =  15.0\n"
     ]
    }
   ],
   "source": [
    "a = int(input(\"Enter value of a = \"))\n",
    "b = int(input(\"Enter value of b = \"))\n",
    "c = int(input(\"Enter value of c = \"))\n",
    "d = int(input(\"Enter value of d = \"))\n",
    "\n",
    "z = (a+b+c+d)/4\n",
    "\n",
    "print(\"The value of z = \",z)"
   ]
  },
  {
   "cell_type": "code",
   "execution_count": 5,
   "id": "88232b45",
   "metadata": {},
   "outputs": [
    {
     "name": "stdout",
     "output_type": "stream",
     "text": [
      "Enter physics marks = 22\n",
      "Enter chemistry marks = 33\n",
      "Enter math marks = 44\n",
      "Enter english marks = 55\n",
      "Enter nepali marks = 1\n",
      " Invalid Operation\n",
      "The total marks =  155\n",
      "The percentage =  31.0\n"
     ]
    }
   ],
   "source": [
    "physics = int(input(\"Enter physics marks = \"))\n",
    "chemistry = int(input(\"Enter chemistry marks = \"))\n",
    "math = int(input(\"Enter math marks = \"))\n",
    "english = int(input(\"Enter english marks = \"))\n",
    "nepali = int(input(\"Enter nepali marks = \"))\n",
    "\n",
    "total = physics + chemistry + math + english + nepali\n",
    "\n",
    "percentage = (total/500)*100\n",
    "if percentage > 80 or percentage == 80:\n",
    "    print(\" The grade = A\")\n",
    "elif percentage > 70 or percentage == 70:\n",
    "    print(\"The grade = B\")\n",
    "elif percentage > 60 or percentage == 60:\n",
    "    print(\"The grade = C\")\n",
    "else:\n",
    "    print(\" Invalid Operation\")\n",
    "\n",
    "print(\"The total marks = \",total)\n",
    "print(\"The percentage = \", percentage)"
   ]
  },
  {
   "cell_type": "code",
   "execution_count": 6,
   "id": "8f375634",
   "metadata": {},
   "outputs": [],
   "source": [
    "#Nested if/ else\n",
    "#if <condition>:\n",
    "#    if  <condition>:\n",
    "#        <operation>:\n",
    "#     else <condition>:\n",
    "#          <operation>\n",
    "#else:\n",
    "#    if    <condition>:\n",
    "#          <operation>:\n",
    "#    else  <condition>:\n",
    "#          <operation>\n"
   ]
  },
  {
   "cell_type": "code",
   "execution_count": 9,
   "id": "94b4ae8f",
   "metadata": {},
   "outputs": [
    {
     "name": "stdout",
     "output_type": "stream",
     "text": [
      "Enter n = -45\n",
      "The number is -ve and odd\n"
     ]
    }
   ],
   "source": [
    "n = int(input(\"Enter n = \"))\n",
    "if n >= 0:\n",
    "    if n % 2 == 0:\n",
    "        print(\"The number is +ve and even\")\n",
    "    else:\n",
    "        print(\"The number is +ve and odd\")\n",
    "else:\n",
    "    if n % 2 != 0:\n",
    "        print(\"The number is -ve and odd\")\n",
    "    else:\n",
    "        print(\"The number is -ve and even\")\n",
    "        \n",
    "    "
   ]
  },
  {
   "cell_type": "code",
   "execution_count": 10,
   "id": "051bdac2",
   "metadata": {},
   "outputs": [],
   "source": [
    "#Main Chapters ahead \n",
    "\n"
   ]
  },
  {
   "cell_type": "code",
   "execution_count": 11,
   "id": "0739c733",
   "metadata": {},
   "outputs": [],
   "source": [
    "#Loop Types\n",
    "# for loop\n",
    "# while loop"
   ]
  },
  {
   "cell_type": "code",
   "execution_count": 13,
   "id": "912c7627",
   "metadata": {},
   "outputs": [
    {
     "data": {
      "text/plain": [
       "range(1, 10, 2)"
      ]
     },
     "execution_count": 13,
     "metadata": {},
     "output_type": "execute_result"
    }
   ],
   "source": [
    "# For Loop\n",
    "range(5)  #0,1,2,3,4\n",
    "range(1,5) # 1,2,3,4\n",
    "range(1,10,2) #1,3,5,7,9"
   ]
  },
  {
   "cell_type": "code",
   "execution_count": 14,
   "id": "b38a2f0e",
   "metadata": {},
   "outputs": [
    {
     "name": "stdout",
     "output_type": "stream",
     "text": [
      "0\n",
      "1\n",
      "2\n",
      "3\n",
      "4\n"
     ]
    }
   ],
   "source": [
    "for a in range(5):\n",
    "    print(a)"
   ]
  },
  {
   "cell_type": "code",
   "execution_count": 16,
   "id": "c61b6234",
   "metadata": {},
   "outputs": [
    {
     "name": "stdout",
     "output_type": "stream",
     "text": [
      "1\n",
      "3\n",
      "5\n",
      "7\n",
      "9\n"
     ]
    }
   ],
   "source": [
    "for a in range(1,10,2):\n",
    "    print(a)"
   ]
  },
  {
   "cell_type": "code",
   "execution_count": 22,
   "id": "7b5170fa",
   "metadata": {},
   "outputs": [
    {
     "name": "stdout",
     "output_type": "stream",
     "text": [
      "1 Hello World\n",
      "4 Hello World\n",
      "7 Hello World\n"
     ]
    }
   ],
   "source": [
    "for i in range(1,10,3):\n",
    "    print(i,\"Hello World\")"
   ]
  },
  {
   "cell_type": "code",
   "execution_count": 21,
   "id": "194c9f35",
   "metadata": {},
   "outputs": [
    {
     "name": "stdout",
     "output_type": "stream",
     "text": [
      "Hello World\n",
      "Hello World\n",
      "Hello World\n",
      "Hello World\n",
      "Hello World\n"
     ]
    }
   ],
   "source": [
    "for b in range(5):\n",
    "    print(\"Hello World\")"
   ]
  },
  {
   "cell_type": "code",
   "execution_count": 26,
   "id": "10a12f99",
   "metadata": {},
   "outputs": [
    {
     "name": "stdout",
     "output_type": "stream",
     "text": [
      "Hello World Hello World Hello World Hello World Hello World "
     ]
    }
   ],
   "source": [
    "for c in range(5):\n",
    "    print(\"Hello World \",end = \"\")"
   ]
  },
  {
   "cell_type": "code",
   "execution_count": 27,
   "id": "ae51b3b9",
   "metadata": {},
   "outputs": [
    {
     "name": "stdout",
     "output_type": "stream",
     "text": [
      "0 Hello World 1 Hello World 2 Hello World 3 Hello World 4 Hello World "
     ]
    }
   ],
   "source": [
    "for c in range(5):\n",
    "    print(c,\"Hello World \",end = \"\")"
   ]
  },
  {
   "cell_type": "code",
   "execution_count": 29,
   "id": "91bd0378",
   "metadata": {},
   "outputs": [
    {
     "name": "stdout",
     "output_type": "stream",
     "text": [
      "5\n",
      "10\n",
      "15\n",
      "20\n",
      "25\n",
      "30\n",
      "35\n",
      "40\n",
      "45\n",
      "50\n"
     ]
    }
   ],
   "source": [
    "for i in range(1,11):\n",
    "    print(5*i)"
   ]
  },
  {
   "cell_type": "code",
   "execution_count": 31,
   "id": "ae053a44",
   "metadata": {},
   "outputs": [
    {
     "name": "stdout",
     "output_type": "stream",
     "text": [
      "Enter n = 200\n",
      "200 * 1 = 200\n",
      "200 * 2 = 400\n",
      "200 * 3 = 600\n",
      "200 * 4 = 800\n",
      "200 * 5 = 1000\n",
      "200 * 6 = 1200\n",
      "200 * 7 = 1400\n",
      "200 * 8 = 1600\n",
      "200 * 9 = 1800\n",
      "200 * 10 = 2000\n"
     ]
    }
   ],
   "source": [
    "n = int(input(\"Enter n = \"))\n",
    "for i in range(1,11):\n",
    "    print(n,\"*\",i,\"=\",n*i)"
   ]
  },
  {
   "cell_type": "code",
   "execution_count": 33,
   "id": "9b0e8d7d",
   "metadata": {},
   "outputs": [
    {
     "name": "stdout",
     "output_type": "stream",
     "text": [
      "Enter a = 50\n",
      "50 % 1 = 0\n",
      "50 % 6 = 2\n",
      "50 % 11 = 6\n",
      "50 % 16 = 2\n",
      "50 % 21 = 8\n",
      "50 % 26 = 24\n",
      "50 % 31 = 19\n",
      "50 % 36 = 14\n",
      "50 % 41 = 9\n",
      "50 % 46 = 4\n",
      "50 % 51 = 50\n",
      "50 % 56 = 50\n",
      "50 % 61 = 50\n",
      "50 % 66 = 50\n",
      "50 % 71 = 50\n",
      "50 % 76 = 50\n",
      "50 % 81 = 50\n",
      "50 % 86 = 50\n",
      "50 % 91 = 50\n",
      "50 % 96 = 50\n",
      "50 % 101 = 50\n",
      "50 % 106 = 50\n",
      "50 % 111 = 50\n",
      "50 % 116 = 50\n",
      "50 % 121 = 50\n",
      "50 % 126 = 50\n",
      "50 % 131 = 50\n",
      "50 % 136 = 50\n",
      "50 % 141 = 50\n",
      "50 % 146 = 50\n"
     ]
    }
   ],
   "source": [
    "a = int(input(\"Enter a = \"))\n",
    "for b in range(1,150,5):\n",
    "    print(a,\"%\",b,\"=\",a % b)"
   ]
  },
  {
   "cell_type": "code",
   "execution_count": 34,
   "id": "7d874379",
   "metadata": {},
   "outputs": [
    {
     "name": "stdout",
     "output_type": "stream",
     "text": [
      "Enter x = 12\n",
      "Enter x = 23\n",
      "Enter x = 33\n"
     ]
    }
   ],
   "source": [
    "for i in range(3):\n",
    "    x = int(input(\"Enter x = \"))\n",
    "    "
   ]
  },
  {
   "cell_type": "code",
   "execution_count": 36,
   "id": "4296fa63",
   "metadata": {},
   "outputs": [
    {
     "name": "stdout",
     "output_type": "stream",
     "text": [
      "Enter x = 1\n",
      "Enter x = 12\n",
      "Enter x = 22\n",
      "Enter x = 22\n",
      "22\n"
     ]
    }
   ],
   "source": [
    "for i in range(4):\n",
    "    x = int(input(\"Enter x = \"))\n",
    "\n",
    "print(x)"
   ]
  },
  {
   "cell_type": "code",
   "execution_count": 38,
   "id": "fe06b26d",
   "metadata": {},
   "outputs": [
    {
     "name": "stdout",
     "output_type": "stream",
     "text": [
      "Enter x = 1\n",
      "1\n",
      "Enter x = 22\n",
      "23\n",
      "Enter x = 33\n",
      "56\n"
     ]
    }
   ],
   "source": [
    "s = 0\n",
    "for i in range(3):\n",
    "    x = int(input(\"Enter x = \"))\n",
    "    s = s + x\n",
    "    print(s)"
   ]
  },
  {
   "cell_type": "code",
   "execution_count": 19,
   "id": "3534f949",
   "metadata": {},
   "outputs": [
    {
     "name": "stdout",
     "output_type": "stream",
     "text": [
      "Enter x = 1\n",
      "s = 1\n",
      "Enter x = 2\n",
      "s = 3\n",
      "Enter x = 3\n",
      "s = 6\n"
     ]
    }
   ],
   "source": [
    " s = 0\n",
    "for i in range(3):\n",
    "    x = int(input(\"Enter x = \"))\n",
    "    s = s + x\n",
    "    print(\"s\",\"=\",s)\n",
    "    "
   ]
  },
  {
   "cell_type": "code",
   "execution_count": 3,
   "id": "ca957a48",
   "metadata": {},
   "outputs": [
    {
     "name": "stdout",
     "output_type": "stream",
     "text": [
      "Enter n = 6\n",
      "Enter x = 5\n",
      "Enter x = 4\n",
      "Enter x = 3\n",
      "Enter x = 2\n",
      "Enter x = 1\n",
      "Enter x = 2\n",
      "17\n"
     ]
    }
   ],
   "source": [
    "s = 0\n",
    "n = int(input(\"Enter n = \"))\n",
    "for i in range(n):\n",
    "    x = int(input(\"Enter x = \"))\n",
    "    s = s + x\n",
    "print(s)"
   ]
  },
  {
   "cell_type": "code",
   "execution_count": 6,
   "id": "5fff1fea",
   "metadata": {},
   "outputs": [],
   "source": [
    "# Home Work Below\n",
    " \n",
    "    \n",
    "    \n",
    "    \n",
    "    \n",
    "\n",
    "    \n",
    "    \n",
    "    \n",
    "    \n",
    "    \n",
    "    \n",
    "    \n",
    "    \n",
    "    \n",
    "    \n",
    "    \n",
    "    \n",
    "    \n",
    "    \n",
    "    \n",
    "    \n",
    "    \n",
    "    \n",
    "    "
   ]
  },
  {
   "cell_type": "code",
   "execution_count": 6,
   "id": "11de0cf3",
   "metadata": {},
   "outputs": [
    {
     "name": "stdout",
     "output_type": "stream",
     "text": [
      "Enter n = -12\n",
      "The value of n shouldnot be negative\n"
     ]
    }
   ],
   "source": [
    "# WAP to calculate factorial. #5! = 1*2*3*4*5\n",
    "fact = 1\n",
    "n = int(input(\"Enter n = \"))\n",
    "if n >= 0:\n",
    "    for i in range(1,n+1):\n",
    "        fact = fact * i\n",
    "        print(fact)\n",
    "else:\n",
    "    print(\"The value of n shouldnot be negative\")"
   ]
  },
  {
   "cell_type": "code",
   "execution_count": 1,
   "id": "444d1e49",
   "metadata": {},
   "outputs": [
    {
     "name": "stdout",
     "output_type": "stream",
     "text": [
      "Enter numberofstudents = 5\n",
      "Enter name = Ram\n",
      "Enter physics = 89\n",
      "Enter chemistry = 67\n",
      "Enter biology = 77\n",
      "Enter math = 77\n",
      "Enter english = 88\n",
      "Enter nepali = 78\n",
      "The total percent is  79.33333333333333 %\n",
      "The grade is  B\n",
      "Enter name = RAbi\n",
      "Enter physics = 89\n",
      "Enter chemistry = 99\n",
      "Enter biology = 78\n",
      "Enter math = 99\n",
      "Enter english = 99\n",
      "Enter nepali = 99\n",
      "The total percent is  93.83333333333333 %\n",
      "The grade is  A+\n",
      "Enter name = Sita\n",
      "Enter physics = 88\n",
      "Enter chemistry = 77\n",
      "Enter biology = 77\n",
      "Enter math = 77\n",
      "Enter english = 77\n",
      "Enter nepali = 77\n",
      "The total percent is  78.83333333333333 %\n",
      "The grade is  B\n",
      "Enter name = SIta\n",
      "Enter physics = 99\n",
      "Enter chemistry = 99\n",
      "Enter biology = 99\n",
      "Enter math = 99\n",
      "Enter english = 99\n",
      "Enter nepali = 99\n",
      "The total percent is  99.0 %\n",
      "The grade is  A+\n",
      "Enter name = Hira\n",
      "Enter physics = 99\n",
      "Enter chemistry = 99\n",
      "Enter biology = 99\n",
      "Enter math = 99\n",
      "Enter english = 99\n",
      "Enter nepali = 99\n",
      "The total percent is  99.0 %\n",
      "The grade is  A+\n"
     ]
    }
   ],
   "source": [
    "# WAP to calculate the grade of multiple students.\n",
    "numberofstudents = int(input(\"Enter numberofstudents = \"))\n",
    "for a in range(numberofstudents):\n",
    "    name = str(input(\"Enter name = \"))\n",
    "    physics = int(input(\"Enter physics = \"))\n",
    "    chemistry = int(input(\"Enter chemistry = \"))\n",
    "    biology = int(input(\"Enter biology = \"))\n",
    "    math = int(input(\"Enter math = \"))\n",
    "    english = int(input(\"Enter english = \"))\n",
    "    nepali = int(input(\"Enter nepali = \"))\n",
    "\n",
    "    total = ( physics + chemistry + biology + math + english + nepali )/6\n",
    "    \n",
    "    if total > 90 or total == 90:\n",
    "        grade = 'A+'\n",
    "    elif total > 80 or total == 80 :\n",
    "        grade = 'A'\n",
    "    elif total > 70 or total == 70:\n",
    "        grade = 'B'\n",
    "    elif total > 60 or total == 60:\n",
    "        grade = 'C'\n",
    "    else:\n",
    "        grade = 'Invalid Operation'\n",
    "\n",
    "    print(\"The total percent is \",total,\"%\")\n",
    "    print(\"The grade is \",grade)"
   ]
  },
  {
   "cell_type": "code",
   "execution_count": 18,
   "id": "d9379e08",
   "metadata": {},
   "outputs": [
    {
     "name": "stdout",
     "output_type": "stream",
     "text": [
      "Enter n = 2\n",
      "Enter productname = pen\n",
      "Enter price = 23\n",
      "Enter quantity = 2\n",
      "Total =  46.0\n",
      "Grand_total =  471.0\n",
      "Enter productname = ball\n",
      "Enter price = 50\n",
      "Enter quantity = 2\n",
      "Total =  100.0\n",
      "Grand_total =  525.0\n"
     ]
    }
   ],
   "source": [
    "#  WAP to create a billing system.\n",
    "# input (name, price, quantity, total, grand total)\n",
    "grand_total = 0\n",
    "n = int(input(\"Enter n = \"))\n",
    "for i in range(n):\n",
    "    productname = str(input(\"Enter productname = \"))\n",
    "    price = float(input(\"Enter price = \"))\n",
    "    quantity = float(input(\"Enter quantity = \"))\n",
    "    total = price * quantity\n",
    "    grand_total = total + grandtotal\n",
    "    \n",
    "    print(\"Total = \",total)\n",
    "    print(\"Grand_total = \",grand_total)\n"
   ]
  },
  {
   "cell_type": "code",
   "execution_count": 17,
   "id": "6e1795d3",
   "metadata": {},
   "outputs": [
    {
     "name": "stdout",
     "output_type": "stream",
     "text": [
      "Enter n = 2\n",
      "Enter name = pen\n",
      "Enter price = 23\n",
      "Enter quantity = 2\n",
      "Enter name = ball\n",
      "Enter price = 50\n",
      "Enter quantity = 10\n",
      "Total =  500.0\n",
      "Grand_total =  546.0\n",
      "pen 23 2.0 46.0\n",
      "ball 50 10.0 500.0\n",
      "\n"
     ]
    }
   ],
   "source": [
    "# WAP to create a billing system(Department store type billing system)\n",
    "info = \"\"\n",
    "grand_total = 0\n",
    "n = int(input(\"Enter n = \"))\n",
    "for i in range(n):\n",
    "    name = input(\"Enter name = \")\n",
    "    price = int(input(\"Enter price = \"))\n",
    "    quantity = float(input(\"Enter quantity = \"))\n",
    "    total = price * quantity\n",
    "    data = name + \" \" + str(price) + \" \" + str(quantity) + \" \" + str(total) + \"\\n\"\n",
    "    info = info + data\n",
    "    grand_total = grand_total + total\n",
    "\n",
    "print(\"Total = \",total)\n",
    "print(\"Grand_total = \",grand_total)\n",
    "print(info)"
   ]
  },
  {
   "cell_type": "code",
   "execution_count": 13,
   "id": "d76dadb5",
   "metadata": {},
   "outputs": [
    {
     "name": "stdout",
     "output_type": "stream",
     "text": [
      "Enter n = 2\n",
      "Enter name = kamala\n",
      "Enter phone = 9869058115\n",
      "Enter name = bimala\n",
      "Enter phone = 9812345678\n",
      " kamala 9869058115\n",
      "bimala 9812345678\n",
      "\n"
     ]
    }
   ],
   "source": [
    "data = \"\"\n",
    "n = int(input(\"Enter n = \"))\n",
    "for i in range(n):\n",
    "    name = input(\"Enter name = \")\n",
    "    phone = int(input(\"Enter phone = \"))\n",
    "    info = name + \" \" + str(phone) + \"\\n\"\n",
    "    data = data + info\n",
    "print(data)"
   ]
  },
  {
   "cell_type": "code",
   "execution_count": 20,
   "id": "6feb2193",
   "metadata": {},
   "outputs": [
    {
     "name": "stdout",
     "output_type": "stream",
     "text": [
      "o\n",
      "oo\n",
      "ooo\n",
      "oooo\n",
      "ooooo\n",
      "oooooo\n",
      "ooooooo\n",
      "oooooooo\n",
      "ooooooooo\n"
     ]
    }
   ],
   "source": [
    "for i in range(1,10):\n",
    "    print( i * \"o\")"
   ]
  },
  {
   "cell_type": "code",
   "execution_count": 50,
   "id": "26a42af1",
   "metadata": {},
   "outputs": [
    {
     "name": "stdout",
     "output_type": "stream",
     "text": [
      " \n",
      "  o\n",
      "   oo\n",
      "    ooo\n",
      "     oooo\n"
     ]
    }
   ],
   "source": [
    "for i in range(5):\n",
    "    print(i * \" \",i * \"o\")"
   ]
  },
  {
   "cell_type": "code",
   "execution_count": 54,
   "id": "589ed149",
   "metadata": {},
   "outputs": [
    {
     "name": "stdout",
     "output_type": "stream",
     "text": [
      "           \n",
      "     o      o\n",
      "     oo      oo\n",
      "     ooo      ooo\n",
      "     oooo      oooo\n"
     ]
    }
   ],
   "source": [
    "c = 5\n",
    "for i in range(5):\n",
    "    print((c-1) * \" \",i * \"o\", (c-1) * \" \",i * \"o\")\n",
    "    "
   ]
  },
  {
   "cell_type": "code",
   "execution_count": 48,
   "id": "b5c46229",
   "metadata": {},
   "outputs": [
    {
     "name": "stdout",
     "output_type": "stream",
     "text": [
      "     \n",
      "    o\n",
      "   ooo\n",
      "  ooooo\n",
      " ooooooo\n"
     ]
    }
   ],
   "source": [
    "c = 5\n",
    "for i in range(5):\n",
    "    print((c-1)* \" \",(2*i-1) * \"o\")\n",
    "    c = c-1"
   ]
  },
  {
   "cell_type": "code",
   "execution_count": 43,
   "id": "b9d90aab",
   "metadata": {},
   "outputs": [
    {
     "name": "stdout",
     "output_type": "stream",
     "text": [
      "apple\n",
      "banana\n",
      "mango\n",
      "orange\n"
     ]
    }
   ],
   "source": [
    "fruits = [\"apple\", \"banana\", \"mango\", \"orange\"]\n",
    "for x in fruits:\n",
    "    print(x)"
   ]
  },
  {
   "cell_type": "code",
   "execution_count": 35,
   "id": "5a583958",
   "metadata": {},
   "outputs": [
    {
     "name": "stdout",
     "output_type": "stream",
     "text": [
      "H\n",
      "e\n",
      "l\n",
      "l\n",
      "o\n",
      " \n",
      "W\n",
      "o\n",
      "r\n",
      "l\n",
      "d\n"
     ]
    }
   ],
   "source": [
    "for y in \"Hello World\":\n",
    "    print(y)\n"
   ]
  },
  {
   "cell_type": "code",
   "execution_count": 4,
   "id": "c9c4db42",
   "metadata": {},
   "outputs": [
    {
     "name": "stdout",
     "output_type": "stream",
     "text": [
      "apple\n",
      "banana\n",
      "mango\n",
      "orange\n"
     ]
    }
   ],
   "source": [
    "Fruits = [\"apple\", \"banana\", \"mango\", \"orange\"]\n",
    "for x in Fruits:\n",
    "    print(x)"
   ]
  },
  {
   "cell_type": "code",
   "execution_count": 18,
   "id": "4725b481",
   "metadata": {},
   "outputs": [
    {
     "name": "stdout",
     "output_type": "stream",
     "text": [
      "Banana \n",
      "Apple \n",
      "Orange \n",
      "Mango \n"
     ]
    }
   ],
   "source": [
    "fruits = {\"Apple \",\"Banana \",\"Mango \",\"Orange \" }\n",
    "for x in fruits:\n",
    "    print(x)\n",
    "    if x == \"Mango\":\n",
    "        break"
   ]
  },
  {
   "cell_type": "code",
   "execution_count": 17,
   "id": "bad54f29",
   "metadata": {},
   "outputs": [
    {
     "name": "stdout",
     "output_type": "stream",
     "text": [
      "abcd\n"
     ]
    }
   ],
   "source": [
    "fruits = [\"abcd\",\"cdef\",\"fghi\",\"ijkl\"]\n",
    "for x in fruits:\n",
    "    if x == \"cdef\":\n",
    "        break\n",
    "    print(x)"
   ]
  },
  {
   "cell_type": "code",
   "execution_count": 16,
   "id": "d38da0c1",
   "metadata": {},
   "outputs": [
    {
     "name": "stdout",
     "output_type": "stream",
     "text": [
      "apple\n"
     ]
    }
   ],
   "source": [
    "fruits = [\"apple\", \"banana\", \"cherry\"]\n",
    "for x in fruits:\n",
    "  if x == \"banana\":\n",
    "    break\n",
    "  print(x) "
   ]
  },
  {
   "cell_type": "code",
   "execution_count": 55,
   "id": "234fcc9c",
   "metadata": {},
   "outputs": [],
   "source": [
    "# CONTROL STATEMENT\n",
    "# break\n",
    "# continue\n"
   ]
  },
  {
   "cell_type": "code",
   "execution_count": 61,
   "id": "1781d8c4",
   "metadata": {},
   "outputs": [
    {
     "name": "stdout",
     "output_type": "stream",
     "text": [
      "0\n",
      "1\n",
      "2\n",
      "3\n",
      "4\n"
     ]
    }
   ],
   "source": [
    "# Break Statement\n",
    "for i in range(10):\n",
    "    if i == 5:\n",
    "        break\n",
    "    print(i)"
   ]
  },
  {
   "cell_type": "code",
   "execution_count": 58,
   "id": "e1a6d50b",
   "metadata": {},
   "outputs": [
    {
     "name": "stdout",
     "output_type": "stream",
     "text": [
      "0\n",
      "1\n",
      "2\n",
      "3\n",
      "4\n",
      "6\n",
      "7\n",
      "8\n",
      "9\n"
     ]
    }
   ],
   "source": [
    "# Continue Statement\n",
    "for i in range(10):\n",
    "    if i == 5:\n",
    "        continue\n",
    "    print(i)"
   ]
  },
  {
   "cell_type": "code",
   "execution_count": 2,
   "id": "f9c1ec0f",
   "metadata": {},
   "outputs": [],
   "source": [
    "# Pass Statement\n",
    "for i in range(5):\n",
    "    pass"
   ]
  },
  {
   "cell_type": "code",
   "execution_count": null,
   "id": "92fcf752",
   "metadata": {},
   "outputs": [],
   "source": []
  }
 ],
 "metadata": {
  "kernelspec": {
   "display_name": "Python 3 (ipykernel)",
   "language": "python",
   "name": "python3"
  },
  "language_info": {
   "codemirror_mode": {
    "name": "ipython",
    "version": 3
   },
   "file_extension": ".py",
   "mimetype": "text/x-python",
   "name": "python",
   "nbconvert_exporter": "python",
   "pygments_lexer": "ipython3",
   "version": "3.10.9"
  }
 },
 "nbformat": 4,
 "nbformat_minor": 5
}
