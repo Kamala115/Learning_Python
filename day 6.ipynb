{
 "cells": [
  {
   "cell_type": "code",
   "execution_count": 1,
   "id": "f3b6dd93",
   "metadata": {},
   "outputs": [
    {
     "name": "stdout",
     "output_type": "stream",
     "text": [
      "<class 'str'> <class 'str'> <class 'str'>\n"
     ]
    }
   ],
   "source": [
    "a = 'Hello'\n",
    "b = \"Hello\"\n",
    "c = '''hello'''\n",
    "print(type(a),type(b),type(c))"
   ]
  },
  {
   "cell_type": "code",
   "execution_count": 3,
   "id": "d8307c3f",
   "metadata": {},
   "outputs": [
    {
     "name": "stdout",
     "output_type": "stream",
     "text": [
      "Hello World\n"
     ]
    }
   ],
   "source": [
    "a = 'Hello '\n",
    "b = 'World'\n",
    "c = a + b\n",
    "print(c)"
   ]
  },
  {
   "cell_type": "code",
   "execution_count": 5,
   "id": "2f7c3593",
   "metadata": {},
   "outputs": [
    {
     "name": "stdout",
     "output_type": "stream",
     "text": [
      "Rabi Rabi Rabi \n"
     ]
    }
   ],
   "source": [
    "a = 'Rabi '\n",
    "b = 3\n",
    "c = a * b\n",
    "print(c)"
   ]
  },
  {
   "cell_type": "code",
   "execution_count": 6,
   "id": "91fc31b9",
   "metadata": {},
   "outputs": [
    {
     "name": "stdout",
     "output_type": "stream",
     "text": [
      "H I am python\n",
      "e I am python\n",
      "l I am python\n",
      "l I am python\n",
      "o I am python\n",
      "  I am python\n",
      "W I am python\n",
      "o I am python\n",
      "r I am python\n",
      "l I am python\n",
      "d I am python\n"
     ]
    }
   ],
   "source": [
    "a = \"Hello World\"\n",
    "for i in a:\n",
    "    print(i,\"I am python\")"
   ]
  },
  {
   "cell_type": "code",
   "execution_count": 8,
   "id": "2739db02",
   "metadata": {},
   "outputs": [
    {
     "name": "stdout",
     "output_type": "stream",
     "text": [
      "H\n",
      "Hello\n",
      "HlowrdIa\n"
     ]
    }
   ],
   "source": [
    "a = \"Hello world I am python\"\n",
    "print(a[0])\n",
    "print(a[0:5])\n",
    "print(a[0:15:2])"
   ]
  },
  {
   "cell_type": "code",
   "execution_count": 9,
   "id": "1ee18370",
   "metadata": {},
   "outputs": [
    {
     "name": "stdout",
     "output_type": "stream",
     "text": [
      "d\n"
     ]
    }
   ],
   "source": [
    "a = \"Hello World\"\n",
    "print(a[-1])"
   ]
  },
  {
   "cell_type": "code",
   "execution_count": 10,
   "id": "79dfb207",
   "metadata": {},
   "outputs": [
    {
     "name": "stdout",
     "output_type": "stream",
     "text": [
      "17\n"
     ]
    }
   ],
   "source": [
    "a = 'Hello I am python'\n",
    "print(len(a))"
   ]
  },
  {
   "cell_type": "code",
   "execution_count": 11,
   "id": "6c7cb3b8",
   "metadata": {},
   "outputs": [
    {
     "name": "stdout",
     "output_type": "stream",
     "text": [
      " I am python\n"
     ]
    }
   ],
   "source": [
    "a = 'Hello I am python'\n",
    "print(a[5:])"
   ]
  },
  {
   "cell_type": "code",
   "execution_count": 12,
   "id": "fbcfa3b6",
   "metadata": {},
   "outputs": [
    {
     "name": "stdout",
     "output_type": "stream",
     "text": [
      "Hello I am python\n"
     ]
    }
   ],
   "source": [
    "a = 'Hello I am python'\n",
    "print(a[:])"
   ]
  },
  {
   "cell_type": "code",
   "execution_count": 13,
   "id": "e8233b7e",
   "metadata": {},
   "outputs": [
    {
     "name": "stdout",
     "output_type": "stream",
     "text": [
      "nohtyp ma I olleH\n"
     ]
    }
   ],
   "source": [
    "a = 'Hello I am python'\n",
    "print(a[: :-1])"
   ]
  },
  {
   "cell_type": "code",
   "execution_count": null,
   "id": "964e9839",
   "metadata": {},
   "outputs": [],
   "source": [
    "# String Formatting"
   ]
  },
  {
   "cell_type": "code",
   "execution_count": 15,
   "id": "1c850631",
   "metadata": {},
   "outputs": [
    {
     "name": "stdout",
     "output_type": "stream",
     "text": [
      "Enter name = kamala\n",
      "Enter age = 2\n",
      "Enter add = bhratpur\n",
      "I am kamala. I am from bhratpur. I am 2.\n"
     ]
    }
   ],
   "source": [
    "name = input(\"Enter name = \")\n",
    "age = int(input(\"Enter age = \"))\n",
    "add = input(\"Enter add = \")\n",
    "\n",
    "info = f\"I am {name}. I am from {add}. I am {age}.\"\n",
    "print(info)"
   ]
  },
  {
   "cell_type": "code",
   "execution_count": 16,
   "id": "40caf4e0",
   "metadata": {},
   "outputs": [
    {
     "name": "stdout",
     "output_type": "stream",
     "text": [
      "Enter n = 3\n",
      "Enter name = pen\n",
      "Enter price = 3\n",
      "Enter quantity = 23\n",
      "Enter name = pencil\n",
      "Enter price = 33\n",
      "Enter quantity = 44\n",
      "Enter name = book\n",
      "Enter price = 22\n",
      "Enter quantity = 33\n",
      "Total =  726.0\n",
      "Grand_total =  2247.0\n",
      "pen 3 23.0 69.0 0 \n",
      "pencil 33 44.0 1452.0 69.0 \n",
      "book 22 33.0 726.0 1521.0 \n",
      "\n"
     ]
    }
   ],
   "source": [
    "info = \"\"\n",
    "grand_total = 0\n",
    "n = int(input(\"Enter n = \"))\n",
    "for i in range(n):\n",
    "    name = input(\"Enter name = \")\n",
    "    price = int(input(\"Enter price = \"))\n",
    "    quantity = float(input(\"Enter quantity = \"))\n",
    "    total = price * quantity\n",
    "    data = f\"{name} {price} {quantity} {total} {grand_total} \\n\"\n",
    "    info = info + data\n",
    "    grand_total = grand_total + total\n",
    "\n",
    "print(\"Total = \",total)\n",
    "print(\"Grand_total = \",grand_total)\n",
    "print(info)"
   ]
  },
  {
   "cell_type": "code",
   "execution_count": 24,
   "id": "032e8d89",
   "metadata": {},
   "outputs": [],
   "source": [
    "# Search string\n",
    "\n"
   ]
  },
  {
   "cell_type": "code",
   "execution_count": 25,
   "id": "38a41941",
   "metadata": {},
   "outputs": [
    {
     "name": "stdout",
     "output_type": "stream",
     "text": [
      "yes there is\n"
     ]
    }
   ],
   "source": [
    "a = 'Raju Ram Shyam hari Sita Gita Nita'\n",
    "name = \"Nita\"\n",
    "if name in a:\n",
    "    print(\"yes there is\")\n"
   ]
  },
  {
   "cell_type": "code",
   "execution_count": 23,
   "id": "c5c31533",
   "metadata": {},
   "outputs": [
    {
     "name": "stdout",
     "output_type": "stream",
     "text": [
      "Enter name = Ram\n",
      "Yes there is\n",
      "1\n"
     ]
    }
   ],
   "source": [
    "a = 'Raju Ram Shyam hari Sita Gita Nita'\n",
    "name = input(\"Enter name = \")\n",
    "if name in a:\n",
    "    print(\"Yes there is\")\n",
    "    print(a.count(name))\n",
    "else:\n",
    "    print(\"No there is not\")"
   ]
  },
  {
   "cell_type": "code",
   "execution_count": 27,
   "id": "85e76e42",
   "metadata": {},
   "outputs": [
    {
     "name": "stdout",
     "output_type": "stream",
     "text": [
      "RAJU RAM SHYAM HARI SITA GITA NITA\n",
      "raju ram shyam hari sita gita nita\n",
      "Raju Ram Shyam hari Sita Gita Nita\n"
     ]
    }
   ],
   "source": [
    "a = 'Raju Ram Shyam hari Sita Gita Nita'\n",
    "print(a.upper())\n",
    "print(a.lower())\n",
    "print(a)"
   ]
  },
  {
   "cell_type": "code",
   "execution_count": 28,
   "id": "ce5eda8d",
   "metadata": {},
   "outputs": [
    {
     "name": "stdout",
     "output_type": "stream",
     "text": [
      "Raju Ram Shyam Hari Sita Gita Nita\n"
     ]
    }
   ],
   "source": [
    "a = 'Raju Ram Shyam hari Sita Gita Nita'\n",
    "print(a.title())"
   ]
  },
  {
   "cell_type": "code",
   "execution_count": 30,
   "id": "ae8c4482",
   "metadata": {},
   "outputs": [
    {
     "name": "stdout",
     "output_type": "stream",
     "text": [
      "Enter name = RAM\n",
      "Yes there is\n",
      "2\n"
     ]
    }
   ],
   "source": [
    "a = 'Raju Ram Shyam hari Sita Gita Nita Ramesh'.lower()\n",
    "name = input(\"Enter name = \").lower()\n",
    "if name in a:\n",
    "    print(\"Yes there is\")\n",
    "    print(a.count(name))\n",
    "else:\n",
    "    print(\"No there is not\")\n",
    "    "
   ]
  },
  {
   "cell_type": "code",
   "execution_count": 31,
   "id": "65befa9f",
   "metadata": {},
   "outputs": [
    {
     "name": "stdout",
     "output_type": "stream",
     "text": [
      "Enter numberofstudents = 2\n",
      "Enter name = Ram\n",
      "Enter physics = 89\n",
      "Enter chemistry = 78\n",
      "Enter biology = 77\n",
      "Enter math = 77\n",
      "Enter english = 77\n",
      "Enter nepali = 77\n",
      "The total percent is  79.16666666666667 %\n",
      "The grade is  B\n",
      "Enter name = Shyam\n",
      "Enter physics = 33\n",
      "Enter chemistry = 44\n",
      "Enter biology = 55\n",
      "Enter math = 66\n",
      "Enter english = 77\n",
      "Enter nepali = 88\n",
      "The total percent is  60.5 %\n",
      "The grade is  C\n"
     ]
    }
   ],
   "source": [
    "# WAP to calculate the grade of multiple students using while loop.\n",
    "i = 0\n",
    "numberofstudents = int(input(\"Enter numberofstudents = \"))\n",
    "while i < numberofstudents:\n",
    "    name = str(input(\"Enter name = \"))\n",
    "    physics = int(input(\"Enter physics = \"))\n",
    "    if physics <= 100:\n",
    "        chemistry = int(input(\"Enter chemistry = \"))\n",
    "        if chemistry <= 100:\n",
    "            biology = int(input(\"Enter biology = \"))\n",
    "            if biology <= 100:\n",
    "                math = int(input(\"Enter math = \"))\n",
    "                if math <= 100:\n",
    "                    english = int(input(\"Enter english = \"))\n",
    "                    if english <= 100:\n",
    "                        nepali = int(input(\"Enter nepali = \"))\n",
    "                        if nepali <= 100:\n",
    "                            total = (physics + chemistry + biology + math + english + nepali)/6\n",
    "\n",
    "                            if total > 90 or total == 90:\n",
    "                                grade = 'A+'\n",
    "                            elif total > 80 or total == 80 :\n",
    "                                grade = 'A'\n",
    "                            elif total > 70 or total == 70:\n",
    "                                grade = 'B'\n",
    "                            elif total > 60 or total == 60:\n",
    "                                grade = 'C'\n",
    "                            else:\n",
    "                                grade = 'Poor Grade'\n",
    "\n",
    "                            print(\"The total percent is \",total,\"%\")\n",
    "                            print(\"The grade is \",grade)\n",
    "                            \n",
    "                            i = i + 1 \n",
    "                            \n",
    "                    else:\n",
    "                        print(\"Obtained marks cannot be more than 100\")\n",
    "                else:\n",
    "                    print(\"Obtained marks cannot be more than 100\")\n",
    "            else:\n",
    "                print(\"Obtained marks cannot be more than 100\")\n",
    "        else:\n",
    "            print(\"Obtained marks cannot be more than 100\")\n",
    "    else:\n",
    "        print(\"Obtained marks cannot be more than 100\")"
   ]
  },
  {
   "cell_type": "code",
   "execution_count": 39,
   "id": "ddb02bc9",
   "metadata": {},
   "outputs": [
    {
     "name": "stdout",
     "output_type": "stream",
     "text": [
      "Enter name = ram\n",
      "Ram Shyam Radha Ram Shyam Radharam Hari Krishna Rabi Surya Kiran Tejaswi Prakash Pradhan\n",
      "Yes there is\n",
      "3\n"
     ]
    }
   ],
   "source": [
    "a = \"ram shyam radha ram shyam radharam hari krishna rabi surya kiran tejaswi prakash pradhan\".upper()\n",
    "name = input(\"Enter name = \").upper()\n",
    "print(a.title())\n",
    "if name in a:\n",
    "    print(\"Yes there is\")\n",
    "    print(a.count(name))\n",
    "else:\n",
    "    print(\"No, there is not\")"
   ]
  },
  {
   "cell_type": "code",
   "execution_count": 2,
   "id": "aced8b75",
   "metadata": {},
   "outputs": [
    {
     "name": "stdout",
     "output_type": "stream",
     "text": [
      "Enter name = SEARCH\n",
      "Hello I Am Python. I Am A Snake. I Hide In Rainy Days And I Come Out To Search My Foods In Sunny Days. Nice To Meet You. I Have A Brother Too. He Is Anoconda. Beware Of Him. He Is More Dangerous Than Me.Thank You!\n",
      "yes, there is.\n",
      "1\n"
     ]
    }
   ],
   "source": [
    "a = \"HELLO I AM PYTHON. I AM A SNAKE. I HIDE IN RAINY DAYS AND I COME OUT TO SEARCH MY FOODS IN SUNNY DAYS. NICE TO MEET YOU. I HAVE A BROTHER TOO. HE IS ANOCONDA. BEWARE OF HIM. HE IS MORE DANGEROUS THAN ME.THANK YOU!\".lower()\n",
    "name = input(\"Enter name = \").lower()\n",
    "print(a.title())\n",
    "if name in a:\n",
    "    print(\"yes, there is.\")\n",
    "    print(a.count(name))\n",
    "else:\n",
    "    print(\"No, there is not\")\n",
    "    "
   ]
  },
  {
   "cell_type": "code",
   "execution_count": null,
   "id": "babf720e",
   "metadata": {},
   "outputs": [],
   "source": [
    "\n"
   ]
  },
  {
   "cell_type": "code",
   "execution_count": null,
   "id": "51e05292",
   "metadata": {},
   "outputs": [],
   "source": []
  }
 ],
 "metadata": {
  "kernelspec": {
   "display_name": "Python 3 (ipykernel)",
   "language": "python",
   "name": "python3"
  },
  "language_info": {
   "codemirror_mode": {
    "name": "ipython",
    "version": 3
   },
   "file_extension": ".py",
   "mimetype": "text/x-python",
   "name": "python",
   "nbconvert_exporter": "python",
   "pygments_lexer": "ipython3",
   "version": "3.10.9"
  }
 },
 "nbformat": 4,
 "nbformat_minor": 5
}
