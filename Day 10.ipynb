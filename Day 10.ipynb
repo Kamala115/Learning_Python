{
 "cells": [
  {
   "cell_type": "code",
   "execution_count": 1,
   "id": "14d56766",
   "metadata": {},
   "outputs": [],
   "source": [
    "# Set\n",
    "# - No indexing\n",
    "# - No ordering\n",
    "# - Multiple values but no duplicate values\n",
    "# - Mutable"
   ]
  },
  {
   "cell_type": "code",
   "execution_count": 2,
   "id": "97fb6980",
   "metadata": {},
   "outputs": [
    {
     "name": "stdout",
     "output_type": "stream",
     "text": [
      "<class 'set'>\n"
     ]
    }
   ],
   "source": [
    "s = set()\n",
    "s = {1,2,3,4,5,6,7,8,8}\n",
    "print(type(s))"
   ]
  },
  {
   "cell_type": "code",
   "execution_count": 3,
   "id": "6ffe9be1",
   "metadata": {},
   "outputs": [
    {
     "data": {
      "text/plain": [
       "{'apple', 'baLL', 'caLL', 'dog'}"
      ]
     },
     "execution_count": 3,
     "metadata": {},
     "output_type": "execute_result"
    }
   ],
   "source": [
    "a = {\"apple\",\"baLL\",\"caLL\",\"dog\"}\n",
    "a"
   ]
  },
  {
   "cell_type": "code",
   "execution_count": 4,
   "id": "b9af34c3",
   "metadata": {},
   "outputs": [
    {
     "data": {
      "text/plain": [
       "{'apple', 'baLL', 'caLL', 'dog'}"
      ]
     },
     "execution_count": 4,
     "metadata": {},
     "output_type": "execute_result"
    }
   ],
   "source": [
    "a = {\"apple\",\"baLL\",\"caLL\",\"dog\"}\n",
    "a"
   ]
  },
  {
   "cell_type": "code",
   "execution_count": 6,
   "id": "d59e418c",
   "metadata": {},
   "outputs": [
    {
     "name": "stdout",
     "output_type": "stream",
     "text": [
      "{1, 2, 3, 4, 5, 6, 7, 8, 9}\n"
     ]
    }
   ],
   "source": [
    "a = {1,2,3,4,5,6,7,8,9}\n",
    "print(a)"
   ]
  },
  {
   "cell_type": "code",
   "execution_count": 7,
   "id": "0577e411",
   "metadata": {},
   "outputs": [
    {
     "data": {
      "text/plain": [
       "{'APPLE', 'BALL', 'CAT', 'DOG'}"
      ]
     },
     "execution_count": 7,
     "metadata": {},
     "output_type": "execute_result"
    }
   ],
   "source": [
    "a = {\"APPLE\",\"BALL\",\"CAT\",\"DOG\",\"APPLE\",\"APPLE\"}\n",
    "a"
   ]
  },
  {
   "cell_type": "code",
   "execution_count": 8,
   "id": "7a0dad74",
   "metadata": {},
   "outputs": [
    {
     "data": {
      "text/plain": [
       "{'APPLE', 'BALL', 'CAT', 'DOG'}"
      ]
     },
     "execution_count": 8,
     "metadata": {},
     "output_type": "execute_result"
    }
   ],
   "source": [
    "a = [\"APPLE\",\"BALL\",\"CAT\",\"DOG\",\"APPLE\",\"APPLE\"]\n",
    "set(a)"
   ]
  },
  {
   "cell_type": "code",
   "execution_count": 9,
   "id": "afe04c76",
   "metadata": {},
   "outputs": [
    {
     "data": {
      "text/plain": [
       "['BALL', 'APPLE', 'CAT', 'DOG']"
      ]
     },
     "execution_count": 9,
     "metadata": {},
     "output_type": "execute_result"
    }
   ],
   "source": [
    "a = [\"APPLE\",\"BALL\",\"CAT\",\"DOG\",\"APPLE\",\"APPLE\"]\n",
    "list(set(a))"
   ]
  },
  {
   "cell_type": "code",
   "execution_count": 13,
   "id": "064c0cb9",
   "metadata": {},
   "outputs": [
    {
     "data": {
      "text/plain": [
       "dict"
      ]
     },
     "execution_count": 13,
     "metadata": {},
     "output_type": "execute_result"
    }
   ],
   "source": [
    "a = {}\n",
    "type(a)"
   ]
  },
  {
   "cell_type": "code",
   "execution_count": 14,
   "id": "819cd87f",
   "metadata": {},
   "outputs": [
    {
     "data": {
      "text/plain": [
       "set"
      ]
     },
     "execution_count": 14,
     "metadata": {},
     "output_type": "execute_result"
    }
   ],
   "source": [
    "a = {1}\n",
    "type(a)"
   ]
  },
  {
   "cell_type": "code",
   "execution_count": 16,
   "id": "89f2fa51",
   "metadata": {},
   "outputs": [
    {
     "data": {
      "text/plain": [
       "{'Apple', 'Ball', 'Call'}"
      ]
     },
     "execution_count": 16,
     "metadata": {},
     "output_type": "execute_result"
    }
   ],
   "source": [
    "# Mutable\n",
    "a = set()\n",
    "a.add(\"Apple\")\n",
    "a.add(\"Ball\")\n",
    "a.add(\"Call\")\n",
    "a"
   ]
  },
  {
   "cell_type": "code",
   "execution_count": 17,
   "id": "267fc6c5",
   "metadata": {},
   "outputs": [],
   "source": [
    "# in set and dict we cannot use No + * "
   ]
  },
  {
   "cell_type": "code",
   "execution_count": 18,
   "id": "be59a5af",
   "metadata": {},
   "outputs": [],
   "source": [
    "# in set we cannot use append() function to add\n",
    "#to add we use add()"
   ]
  },
  {
   "cell_type": "code",
   "execution_count": 20,
   "id": "812abdda",
   "metadata": {},
   "outputs": [
    {
     "data": {
      "text/plain": [
       "{1, 2, 3, 4, 5, 6, 7, 8, 9}"
      ]
     },
     "execution_count": 20,
     "metadata": {},
     "output_type": "execute_result"
    }
   ],
   "source": [
    "# Update\n",
    "a = {1,2,3,4,5,6}\n",
    "b = {1,2,3,7,8,9}\n",
    "a.update(b)\n",
    "a"
   ]
  },
  {
   "cell_type": "code",
   "execution_count": 22,
   "id": "6e0fb0a0",
   "metadata": {},
   "outputs": [],
   "source": [
    "# No list inside Set\n",
    "#a = {[1,2,3]}\n",
    "#a"
   ]
  },
  {
   "cell_type": "code",
   "execution_count": 23,
   "id": "14204239",
   "metadata": {},
   "outputs": [],
   "source": [
    "# No dictionary inside set because it doesnt exist"
   ]
  },
  {
   "cell_type": "code",
   "execution_count": 24,
   "id": "80d1a4d3",
   "metadata": {},
   "outputs": [],
   "source": [
    "# No set inside set"
   ]
  },
  {
   "cell_type": "code",
   "execution_count": 25,
   "id": "1d8282a6",
   "metadata": {},
   "outputs": [
    {
     "data": {
      "text/plain": [
       "{(1, 2, 3)}"
      ]
     },
     "execution_count": 25,
     "metadata": {},
     "output_type": "execute_result"
    }
   ],
   "source": [
    "# But tuple canbe inside set\n",
    "a = {(1,2,3)}\n",
    "a"
   ]
  },
  {
   "cell_type": "code",
   "execution_count": 26,
   "id": "8132a62a",
   "metadata": {},
   "outputs": [],
   "source": [
    "# sabai vitra set rakhna milxa but set vitra kei pni accept gardaina except tuple"
   ]
  },
  {
   "cell_type": "code",
   "execution_count": null,
   "id": "a4e1a9d1",
   "metadata": {},
   "outputs": [],
   "source": []
  }
 ],
 "metadata": {
  "kernelspec": {
   "display_name": "Python 3 (ipykernel)",
   "language": "python",
   "name": "python3"
  },
  "language_info": {
   "codemirror_mode": {
    "name": "ipython",
    "version": 3
   },
   "file_extension": ".py",
   "mimetype": "text/x-python",
   "name": "python",
   "nbconvert_exporter": "python",
   "pygments_lexer": "ipython3",
   "version": "3.10.9"
  }
 },
 "nbformat": 4,
 "nbformat_minor": 5
}
