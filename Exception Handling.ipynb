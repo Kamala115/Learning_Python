{
 "cells": [
  {
   "cell_type": "code",
   "execution_count": 1,
   "id": "68e1e73c",
   "metadata": {},
   "outputs": [
    {
     "name": "stdout",
     "output_type": "stream",
     "text": [
      "Enter age = Seven\n",
      "Error alert!\n"
     ]
    }
   ],
   "source": [
    "try:\n",
    "    x = int(input(\"Enter age = \"))\n",
    "    print(x)\n",
    "except:\n",
    "    print(\"Error alert!\")"
   ]
  },
  {
   "cell_type": "code",
   "execution_count": 2,
   "id": "fca5295b",
   "metadata": {},
   "outputs": [
    {
     "name": "stdout",
     "output_type": "stream",
     "text": [
      "Enter x = asdf\n"
     ]
    },
    {
     "ename": "ValueError",
     "evalue": "invalid literal for int() with base 10: 'asdf'",
     "output_type": "error",
     "traceback": [
      "\u001b[1;31m---------------------------------------------------------------------------\u001b[0m",
      "\u001b[1;31mValueError\u001b[0m                                Traceback (most recent call last)",
      "Cell \u001b[1;32mIn[2], line 1\u001b[0m\n\u001b[1;32m----> 1\u001b[0m x \u001b[38;5;241m=\u001b[39m \u001b[38;5;28;43mint\u001b[39;49m\u001b[43m(\u001b[49m\u001b[38;5;28;43minput\u001b[39;49m\u001b[43m(\u001b[49m\u001b[38;5;124;43m\"\u001b[39;49m\u001b[38;5;124;43mEnter x = \u001b[39;49m\u001b[38;5;124;43m\"\u001b[39;49m\u001b[43m)\u001b[49m\u001b[43m)\u001b[49m\n",
      "\u001b[1;31mValueError\u001b[0m: invalid literal for int() with base 10: 'asdf'"
     ]
    }
   ],
   "source": [
    "x = int(input(\"Enter x = \"))\n"
   ]
  },
  {
   "cell_type": "code",
   "execution_count": 3,
   "id": "23978b51",
   "metadata": {},
   "outputs": [
    {
     "name": "stdout",
     "output_type": "stream",
     "text": [
      "Enter age = asfbg\n",
      "Error alert!\n"
     ]
    }
   ],
   "source": [
    "try:\n",
    "    x = int(input(\"Enter age = \"))\n",
    "    print(x)\n",
    "except ValueError:                #valueerror ako bela matrai Error alert! print hunxa\n",
    "    print(\"Error alert!\")"
   ]
  },
  {
   "cell_type": "code",
   "execution_count": 5,
   "id": "5a2ace18",
   "metadata": {},
   "outputs": [
    {
     "name": "stdout",
     "output_type": "stream",
     "text": [
      "Enter x = 0\n"
     ]
    },
    {
     "ename": "ZeroDivisionError",
     "evalue": "division by zero",
     "output_type": "error",
     "traceback": [
      "\u001b[1;31m---------------------------------------------------------------------------\u001b[0m",
      "\u001b[1;31mZeroDivisionError\u001b[0m                         Traceback (most recent call last)",
      "Cell \u001b[1;32mIn[5], line 2\u001b[0m\n\u001b[0;32m      1\u001b[0m x \u001b[38;5;241m=\u001b[39m \u001b[38;5;28mint\u001b[39m(\u001b[38;5;28minput\u001b[39m(\u001b[38;5;124m\"\u001b[39m\u001b[38;5;124mEnter x = \u001b[39m\u001b[38;5;124m\"\u001b[39m))\n\u001b[1;32m----> 2\u001b[0m \u001b[38;5;241;43m10\u001b[39;49m\u001b[38;5;241;43m/\u001b[39;49m\u001b[38;5;241;43m0\u001b[39;49m\n",
      "\u001b[1;31mZeroDivisionError\u001b[0m: division by zero"
     ]
    }
   ],
   "source": [
    "x = int(input(\"Enter x = \"))\n",
    "10/0"
   ]
  },
  {
   "cell_type": "code",
   "execution_count": 6,
   "id": "b231da1e",
   "metadata": {},
   "outputs": [
    {
     "name": "stdout",
     "output_type": "stream",
     "text": [
      "Enter x = 1\n",
      "Enter y = 0\n",
      "The value of b cannot be zero\n"
     ]
    }
   ],
   "source": [
    "try:\n",
    "    x = int(input(\"Enter x = \"))\n",
    "    y = int(input(\"Enter y = \"))\n",
    "    a = x/y\n",
    "    print(a)\n",
    "except ValueError:                #valueerror ako bela matrai Error alert! print hunxa\n",
    "    print(\"Error alert!\")\n",
    "except ZeroDivisionError:\n",
    "    print(\"The value of b cannot be zero\")"
   ]
  },
  {
   "cell_type": "code",
   "execution_count": 28,
   "id": "56854dff",
   "metadata": {},
   "outputs": [
    {
     "ename": "IndentationError",
     "evalue": "unindent does not match any outer indentation level (<tokenize>, line 4)",
     "output_type": "error",
     "traceback": [
      "\u001b[1;36m  File \u001b[1;32m<tokenize>:4\u001b[1;36m\u001b[0m\n\u001b[1;33m    y = int(input(\"Enter y = \"))\u001b[0m\n\u001b[1;37m    ^\u001b[0m\n\u001b[1;31mIndentationError\u001b[0m\u001b[1;31m:\u001b[0m unindent does not match any outer indentation level\n"
     ]
    }
   ],
   "source": [
    "def cal():     #jaba samma proper value haldaina taba samma call gariranxa \n",
    "    try:\n",
    "         x = int(input(\"Enter x = \"))\n",
    "        y = int(input(\"Enter y = \"))\n",
    "        a = x/y\n",
    "        print(a)\n",
    "    except ValueError:                #valueerror ako bela matrai Error alert! print hunxa\n",
    "        print(\"Error alert!\")\n",
    "        cal()               \n",
    "    except ZeroDivisionError:\n",
    "        print(\"The value of y cannot be zero\")    #zerodivisionerror ako bela matrai The value of b cannot be zero print hunxa\n",
    "        cal()\n",
    "        \n",
    "cal()                    "
   ]
  },
  {
   "cell_type": "code",
   "execution_count": 17,
   "id": "ece61526",
   "metadata": {},
   "outputs": [
    {
     "ename": "SyntaxError",
     "evalue": "incomplete input (1694523980.py, line 7)",
     "output_type": "error",
     "traceback": [
      "\u001b[1;36m  Cell \u001b[1;32mIn[17], line 7\u001b[1;36m\u001b[0m\n\u001b[1;33m    \u001b[0m\n\u001b[1;37m    ^\u001b[0m\n\u001b[1;31mSyntaxError\u001b[0m\u001b[1;31m:\u001b[0m incomplete input\n"
     ]
    }
   ],
   "source": [
    "c = 1\n",
    "def cal():\n",
    "    global c\n",
    "    try:\n",
    "        a = int(input(\"Enter a = \"))\n",
    "        b = int(input(\"Enter b = \"))\n",
    "        x = a/b\n",
    "        "
   ]
  },
  {
   "cell_type": "code",
   "execution_count": 18,
   "id": "7bd1876b",
   "metadata": {},
   "outputs": [
    {
     "name": "stdout",
     "output_type": "stream",
     "text": [
      "Enter x = 12\n",
      "Enter y = 22\n",
      "0.5454545454545454\n"
     ]
    }
   ],
   "source": [
    "try:\n",
    "    x = int(input(\"Enter x = \"))\n",
    "    y = int(input(\"Enter y = \"))\n",
    "    a = x/y\n",
    "    \n",
    "except ValueError:                #valueerror ako bela matrai Error alert! print hunxa\n",
    "    print(\"Error alert!\")\n",
    "except ZeroDivisionError:\n",
    "    print(\"The value of b cannot be zero\")\n",
    "else:\n",
    "    print(a)"
   ]
  },
  {
   "cell_type": "code",
   "execution_count": 30,
   "id": "efe26e9e",
   "metadata": {},
   "outputs": [
    {
     "ename": "AssertionError",
     "evalue": "",
     "output_type": "error",
     "traceback": [
      "\u001b[1;31m---------------------------------------------------------------------------\u001b[0m",
      "\u001b[1;31mAssertionError\u001b[0m                            Traceback (most recent call last)",
      "Cell \u001b[1;32mIn[30], line 1\u001b[0m\n\u001b[1;32m----> 1\u001b[0m \u001b[38;5;28;01massert\u001b[39;00m \u001b[38;5;241m10\u001b[39m \u001b[38;5;241m>\u001b[39m\u001b[38;5;241m=\u001b[39m \u001b[38;5;241m18\u001b[39m\n",
      "\u001b[1;31mAssertionError\u001b[0m: "
     ]
    }
   ],
   "source": [
    "assert 10 >= 18"
   ]
  },
  {
   "cell_type": "code",
   "execution_count": 31,
   "id": "362daca5",
   "metadata": {},
   "outputs": [
    {
     "name": "stdout",
     "output_type": "stream",
     "text": [
      "Enter age = asdf\n",
      "Error alert!\n"
     ]
    }
   ],
   "source": [
    "try:\n",
    "    age = int(input(\"Enter age = \"))\n",
    "    print(\"Age = \",age)\n",
    "    assert age >= 18\n",
    "    \n",
    "except AssertionError:\n",
    "    print(\"The age should be >= 18\")\n",
    "except:\n",
    "    print(\"Error alert!\")\n",
    "else:\n",
    "    print(\"You entered age =\",age)"
   ]
  },
  {
   "cell_type": "code",
   "execution_count": null,
   "id": "4578ed73",
   "metadata": {},
   "outputs": [],
   "source": [
    "try:\n",
    "    p = int(input(\"Enter p = \"))\n",
    "    t = int(input(\"Enter t = \"))\n",
    "    r = int(input(\"Enter r = \"))\n",
    "    I = p*t*r/100\n",
    "    \n"
   ]
  }
 ],
 "metadata": {
  "kernelspec": {
   "display_name": "Python 3 (ipykernel)",
   "language": "python",
   "name": "python3"
  },
  "language_info": {
   "codemirror_mode": {
    "name": "ipython",
    "version": 3
   },
   "file_extension": ".py",
   "mimetype": "text/x-python",
   "name": "python",
   "nbconvert_exporter": "python",
   "pygments_lexer": "ipython3",
   "version": "3.10.9"
  }
 },
 "nbformat": 4,
 "nbformat_minor": 5
}
